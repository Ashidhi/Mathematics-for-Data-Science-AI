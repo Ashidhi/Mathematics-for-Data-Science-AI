{
 "cells": [
  {
   "cell_type": "markdown",
   "id": "1c473ea7-f197-4d38-b385-c075e80814e4",
   "metadata": {},
   "source": [
    "# Descriptive Statistics:\n",
    "Descriptive statistics is a branch of statistics that summarizes and describes the main features of a dataset.\n",
    "\n",
    "It helps you understand the basic characteristics of data using numerical measures, tables, and visualizations, without making predictions or generalizations beyond the data.\n",
    "\n",
    "# Two Main Types of Descriptive Statistics:\n",
    "#### 1. Measures of Central Tendency (where data tends to center)\n",
    "Mean – average\n",
    "\n",
    "Median – middle value\n",
    "\n",
    "Mode – most frequent value\n",
    "\n",
    "#### 2. Measures of Dispersion/Variability (how spread out the data is)\n",
    "Range – max - min\n",
    "\n",
    "Variance – average of squared differences from the mean\n",
    "\n",
    "Standard Deviation – square root of variance\n",
    "\n",
    "Interquartile Range (IQR) – range of the middle 50% (Q3 - Q1)\n",
    "\n",
    "#### Other Key Descriptive Measures:\n",
    "Skewness – measures asymmetry of distribution\n",
    "\n",
    "Kurtosis – measures \"tailedness\" of distribution\n",
    "\n",
    "Percentiles/Quartiles – values that split the data into parts\n",
    "\n",
    "#### Data Visualization Tools in Descriptive Statistics:\n",
    "Histograms – for distribution\n",
    "\n",
    "Box plots – for spread and outliers\n",
    "\n",
    "Bar charts, Pie charts, Line graphs – for categorical and time series data"
   ]
  },
  {
   "cell_type": "markdown",
   "id": "18ae5b47-5acb-415c-a370-d301306e222f",
   "metadata": {},
   "source": [
    "**Measures of Central Tendency** \n",
    "describe the center point or typical value of a dataset. The three most common are:\n",
    "\n",
    "---\n",
    "\n",
    "### 1. **Mean (Arithmetic Average)**\n",
    "\n",
    "* **Definition**: Sum of all values divided by the number of values.\n",
    "* **Formula**:\n",
    "\n",
    "  $$\n",
    "  \\bar{x} = \\frac{1}{n}\\sum_{i=1}^{n} x_i\n",
    "  $$\n",
    "* **When to use**: Ideal for numerical linear data without extreme outliers.\n",
    "* **Pro**: Efficient use of all data points.\n",
    "* **Con**: Sensitive to outliers (e.g., a single extreme value can skew the mean).\n",
    "\n",
    "*Example*: For scores `[70, 85, 90, 75, 60, 95, 80]`,\n",
    "\n",
    "$$\n",
    "\\text{Mean} = \\frac{70 + 85 + 90 + 75 + 60 + 95 + 80}{7} = 79.29\n",
    "$$\n",
    "\n"
   ]
  },
  {
   "cell_type": "code",
   "execution_count": 63,
   "id": "cc386227-481a-41ef-b9b1-815941f7cc09",
   "metadata": {},
   "outputs": [
    {
     "name": "stdout",
     "output_type": "stream",
     "text": [
      "Mean: 30.0\n"
     ]
    }
   ],
   "source": [
    "data = [10, 20, 30, 40, 50]\n",
    "mean = sum(data) / len(data)\n",
    "print(\"Mean:\", mean)\n",
    "# Output: Mean: 30.0\n"
   ]
  },
  {
   "cell_type": "markdown",
   "id": "5969db4c-7aa9-49b0-a32b-03e7aaa633e1",
   "metadata": {},
   "source": [
    "---\n",
    "\n",
    "### 2. **Median (Middle Value)**\n",
    "\n",
    "* **Definition**: Value at the middle of a sorted dataset.\n",
    "* **Procedure**:\n",
    "\n",
    "  * Sort the data.\n",
    "  * If $n$ is odd → take the $(n+1)/2$‑th value.\n",
    "  * If $n$ is even → average the two middle values.\n",
    "* **When to use**: Best when the data is skewed or contains outliers.\n",
    "* **Pro**: Not affected by extreme values.\n",
    "* **Con**: Doesn’t consider every data point.\n",
    "\n",
    "*Example*: Sorted scores `[60, 70, 75, 80, 85, 90, 95]` → median is the 4th value, **80**.\n",
    "\n",
    "---"
   ]
  },
  {
   "cell_type": "code",
   "execution_count": 66,
   "id": "6bcf8ace-c185-4586-976c-150a6019339c",
   "metadata": {},
   "outputs": [
    {
     "name": "stdout",
     "output_type": "stream",
     "text": [
      "Median: 30\n",
      "Median2: 25.0\n"
     ]
    }
   ],
   "source": [
    "import statistics\n",
    "\n",
    "data = [10, 20, 30, 40, 50]\n",
    "median = statistics.median(data)\n",
    "print(\"Median:\", median)\n",
    "# Output: Median: 30\n",
    "\n",
    "data2 = [10, 20, 30, 40]\n",
    "median2 = statistics.median(data2)\n",
    "print(\"Median2:\", median2)\n",
    "# Output: Median2: 25.0\n"
   ]
  },
  {
   "cell_type": "markdown",
   "id": "02742623-a43e-4d56-a1af-60c1a75497f2",
   "metadata": {},
   "source": [
    "### 3. **Mode (Most Common Value)**\n",
    "\n",
    "* **Definition**: Value(s) occurring most frequently in the dataset.\n",
    "* **Types**:\n",
    "\n",
    "  * **Unimodal**: One mode\n",
    "  * **Bimodal**: Two modes\n",
    "  * **Multimodal**: More than two modes\n",
    "  * **No mode**:\tNo value repeats\n",
    "    \n",
    "* **When to use**: Useful for categorical or discrete data.\n",
    "* **Pro**: Shows the most common case; not affected by outliers.\n",
    "* **Con**: Sometimes no value repeats, or multiple values tie.\n",
    "\n",
    "*Example*: In `[1, 2, 2, 3, 4, 4, 4, 5]`, mode is **4**.\n",
    "\n",
    "---"
   ]
  },
  {
   "cell_type": "code",
   "execution_count": 69,
   "id": "f4d8b681-e078-4337-ba5c-68487ca32f3c",
   "metadata": {},
   "outputs": [
    {
     "name": "stdout",
     "output_type": "stream",
     "text": [
      "Mode: 20\n"
     ]
    }
   ],
   "source": [
    "import statistics\n",
    "\n",
    "data = [10, 20, 20, 30, 40]\n",
    "mode = statistics.mode(data)\n",
    "print(\"Mode:\", mode)\n",
    "# Output: Mode: 20\n"
   ]
  },
  {
   "cell_type": "markdown",
   "id": "ab46b942-2c90-4f1e-b649-8cf861b9a4ea",
   "metadata": {},
   "source": [
    "### ⚖️ When to Use Which?\n",
    "\n",
    "| Data Type                   | Best Measure |\n",
    "| --------------------------- | ------------ |\n",
    "| **Symmetric, No Outliers**  | Mean         |\n",
    "| **Skewed or With Outliers** | Median       |\n",
    "| **Categorical Data**        | Mode         |\n"
   ]
  },
  {
   "cell_type": "markdown",
   "id": "5bdfba55-8223-4463-8f4b-9d7ef84d559b",
   "metadata": {},
   "source": [
    "\n",
    "##  What Are Measures of Dispersion?\n",
    "\n",
    "These measures show how **spread out** or **scattered** the values in a dataset are.\n",
    "\n",
    "If the data points are **close together**, the dispersion is **low**.\n",
    "If they are **far apart**, dispersion is **high**.\n",
    "\n",
    "---\n",
    "\n",
    "##  Common Measures of Dispersion:\n",
    "\n",
    "| Measure                       | Description                                   |\n",
    "| ----------------------------- | --------------------------------------------- |\n",
    "| **Range**                     | Difference between max and min                |\n",
    "| **Variance**                  | Average of squared differences from the mean  |\n",
    "| **Standard Deviation**        | Square root of variance (most commonly used)  |\n",
    "| **Interquartile Range (IQR)** | Range of the middle 50% of data (Q3 − Q1)     |\n",
    "| **Absolute Deviation / MAD**  | Average of absolute differences from the mean |\n",
    "\n",
    "---\n",
    "\n",
    "## 🧮 1. **Range**\n",
    "\n",
    "**Formula**:\n",
    "\n",
    "$$\n",
    "\\text{Range} = \\text{Max} - \\text{Min}\n",
    "$$\n",
    "\n",
    "**Example**:\n",
    "Data: \\[4, 7, 10, 12]\n",
    "Range = 12 - 4 = **8**\n",
    "\n",
    "✅ Simple to calculate, but affected by **outliers**.\n",
    "\n",
    "---\n",
    "\n",
    "## 🧮 2. **Variance**\n",
    "\n",
    "**Formula**:\n",
    "\n",
    "$$\n",
    "\\sigma^2 = \\frac{1}{n} \\sum_{i=1}^{n} (x_i - \\bar{x})^2 \\quad \\text{(population)}\n",
    "$$\n",
    "\n",
    "$$\n",
    "s^2 = \\frac{1}{n-1} \\sum_{i=1}^{n} (x_i - \\bar{x})^2 \\quad \\text{(sample)}\n",
    "$$\n",
    "\n",
    "* Tells how far each value is from the **mean** (on average, squared).\n",
    "* Unit is **squared** (e.g., cm² if data is in cm).\n",
    "\n",
    "---\n",
    "\n",
    "## 🧮 3. **Standard Deviation (SD)**\n",
    "Standard deviation is a measure of how far the data points are from each other. Calculating standard deviation is a bit more complicated, but most statistical tools can help you calculate standard deviation.\n",
    "\n",
    "**Formula**:\n",
    "\n",
    "$$\n",
    "\\sigma = \\sqrt{\\text{Variance}}\n",
    "$$\n",
    "\n",
    "* Most common measure of spread.\n",
    "* Same unit as the original data.\n",
    "* Helps in understanding the **\"typical\" spread** from the mean.\n",
    "\n",
    "---\n",
    "\n",
    "### ✅ Example (Variance & SD):\n",
    "\n",
    "Data: \\[2, 4, 4, 4, 5, 5, 7, 9]\n",
    "\n",
    "* Mean = 5\n",
    "* Variance = 4\n",
    "* Standard Deviation = √4 = **2**\n",
    "\n",
    "---\n",
    "\n",
    "## 🧮 4. **Interquartile Range (IQR)**\n",
    "\n",
    "* **Formula**:\n",
    "\n",
    "$$\n",
    "\\text{IQR} = Q3 - Q1\n",
    "$$\n",
    "\n",
    "* Q1 = 25th percentile\n",
    "* Q3 = 75th percentile\n",
    "* Measures **spread of the middle 50%** of data\n",
    "* Not affected by outliers\n",
    "\n",
    "---\n",
    "\n",
    "## 📊 Comparison Table:\n",
    "\n",
    "| Measure  | Affected by Outliers? | Best for...                  |\n",
    "| -------- | --------------------- | ---------------------------- |\n",
    "| Range    | ✅ Yes                 | Quick estimate               |\n",
    "| Variance | ✅ Yes                 | Statistical modeling         |\n",
    "| SD       | ✅ Yes                 | Most common spread indicator |\n",
    "| IQR      | ❌ No                  | Skewed or non-normal data    |\n",
    "\n",
    "---\n",
    "\n",
    "\n",
    "\n",
    "## ✅ Summary\n",
    "\n",
    "| Concept      | Meaning                            | Usefulness                  |\n",
    "| ------------ | ---------------------------------- | --------------------------- |\n",
    "| **Range**    | Max - Min                          | Simple, but sensitive       |\n",
    "| **Variance** | Avg of squared deviation from mean | Mathematical basis for SD   |\n",
    "| **SD**       | √Variance                          | Widely used & interpretable |\n",
    "| **IQR**      | Middle 50% spread                  | Robust to outliers          |\n",
    "\n"
   ]
  },
  {
   "cell_type": "code",
   "execution_count": 73,
   "id": "843a3e21-d0d3-4b1f-8082-2e85d6aefebc",
   "metadata": {},
   "outputs": [
    {
     "name": "stdout",
     "output_type": "stream",
     "text": [
      "Range: 8\n",
      "Variance: 7.916666666666667\n",
      "Standard Deviation: 2.8136571693556887\n",
      "IQR: 4.25\n"
     ]
    }
   ],
   "source": [
    "import numpy as np\n",
    "\n",
    "data = [4, 5, 6, 8, 10, 12]\n",
    "\n",
    "# Range\n",
    "data_range = max(data) - min(data)\n",
    "\n",
    "# Variance and Standard Deviation\n",
    "variance = np.var(data)         # population variance\n",
    "std_dev = np.std(data)          # population std\n",
    "\n",
    "# IQR\n",
    "Q1 = np.percentile(data, 25)\n",
    "Q3 = np.percentile(data, 75)\n",
    "IQR = Q3 - Q1\n",
    "\n",
    "print(\"Range:\", data_range)\n",
    "print(\"Variance:\", variance)\n",
    "print(\"Standard Deviation:\", std_dev)\n",
    "print(\"IQR:\", IQR)\n"
   ]
  },
  {
   "cell_type": "markdown",
   "id": "c68c6393-7c2b-49f2-89ec-7c40c688a577",
   "metadata": {},
   "source": [
    "\n",
    "\n",
    "## 📘 1. **Skewness** – Measures Asymmetry\n",
    "\n",
    "### 🔹 Definition:\n",
    "\n",
    "**Skewness** tells you **whether the data is symmetrical** or leans to one side.\n",
    "\n",
    "### 🧠 Interpretations:\n",
    "\n",
    "* **Skewness = 0** → perfectly symmetrical (normal distribution)\n",
    "* **Positive skew (Right-skewed)** → long tail on the right (more small values)\n",
    "* **Negative skew (Left-skewed)** → long tail on the left (more large values)\n",
    "\n",
    "### 📈 Example:\n",
    "\n",
    "Data = `[2, 3, 4, 5, 100]`\n",
    "→ **Right-skewed** due to the extreme value **100**\n",
    "\n",
    "\n",
    "\n",
    "\n",
    "\n",
    "\n",
    "\n",
    "\n",
    "\n",
    "\n"
   ]
  },
  {
   "cell_type": "code",
   "execution_count": 76,
   "id": "73cd5f77-571f-4985-993b-9d9b0f10ef38",
   "metadata": {},
   "outputs": [
    {
     "name": "stdout",
     "output_type": "stream",
     "text": [
      "Skewness: 1.4974854324944105\n"
     ]
    }
   ],
   "source": [
    "from scipy.stats import skew\n",
    "data = [2, 3, 4, 5, 100]\n",
    "print(\"Skewness:\", skew(data))"
   ]
  },
  {
   "cell_type": "markdown",
   "id": "68520b5c-2b18-464e-8ddb-bc65756b3313",
   "metadata": {},
   "source": [
    "## 📘 2. **Kurtosis** – Measures Tailedness\n",
    "\n",
    "### 🔹 Definition:\n",
    "\n",
    "**Kurtosis** measures how **heavy or light the tails** of the distribution are compared to a normal distribution.\n",
    "\n",
    "### 🧠 Types:\n",
    "\n",
    "| Kurtosis Type   | Value | Shape                                   |\n",
    "| --------------- | ----- | --------------------------------------- |\n",
    "| **Mesokurtic**  | ≈ 0   | Normal tails (like normal distribution) |\n",
    "| **Leptokurtic** | > 0   | Heavy tails, more outliers              |\n",
    "| **Platykurtic** | < 0   | Light tails, fewer outliers             |\n",
    "\n",
    "### 📈 Visual:\n",
    "\n",
    "* **Leptokurtic**: tall and skinny with fat tails\n",
    "* **Platykurtic**: flat peak with thin tails\n",
    "\n",
    "---"
   ]
  },
  {
   "cell_type": "code",
   "execution_count": 79,
   "id": "ad8ce00b-b517-4da5-abf0-52f2f4280228",
   "metadata": {},
   "outputs": [
    {
     "name": "stdout",
     "output_type": "stream",
     "text": [
      "Kurtosis: 0.2466481654058179\n"
     ]
    }
   ],
   "source": [
    "from scipy.stats import kurtosis\n",
    "print(\"Kurtosis:\", kurtosis(data))  # Fisher’s definition (normal = 0)"
   ]
  },
  {
   "cell_type": "markdown",
   "id": "6d5c4c24-7b97-43b7-a81d-0c8faf2eb25e",
   "metadata": {},
   "source": [
    "## 📘 3. **Percentiles and Quartiles**\n",
    "\n",
    "### 🔹 Percentiles:\n",
    "\n",
    "* Divide the data into **100 equal parts**\n",
    "* The **k-th percentile** is the value below which **k%** of the data falls\n",
    "\n",
    "> E.g., the 90th percentile means **90% of data is below that value**\n",
    "\n",
    "### 🔹 Quartiles:\n",
    "\n",
    "* Special percentiles:\n",
    "\n",
    "  * **Q1 (25th percentile)** – lower quartile\n",
    "  * **Q2 (50th percentile)** – median\n",
    "  * **Q3 (75th percentile)** – upper quartile\n",
    "\n",
    "### 🔹 Interquartile Range (IQR):\n",
    "\n",
    "$$\n",
    "\\text{IQR} = Q3 - Q1\n",
    "$$\n",
    "\n",
    "Used to detect **outliers** and **spread of middle 50%**.\n",
    "\n",
    "---"
   ]
  },
  {
   "cell_type": "code",
   "execution_count": 82,
   "id": "a6cbd161-6f03-431f-a8a9-d938011e4436",
   "metadata": {},
   "outputs": [
    {
     "name": "stdout",
     "output_type": "stream",
     "text": [
      "Q1: 5.0\n",
      "Q2 (Median): 9.0\n",
      "Q3: 13.0\n",
      "IQR: 8.0\n"
     ]
    }
   ],
   "source": [
    "import numpy as np\n",
    "\n",
    "data = [1, 3, 5, 7, 9, 11, 13, 15, 17]\n",
    "\n",
    "Q1 = np.percentile(data, 25)\n",
    "Q2 = np.percentile(data, 50)\n",
    "Q3 = np.percentile(data, 75)\n",
    "\n",
    "IQR = Q3 - Q1\n",
    "\n",
    "print(\"Q1:\", Q1)\n",
    "print(\"Q2 (Median):\", Q2)\n",
    "print(\"Q3:\", Q3)\n",
    "print(\"IQR:\", IQR)"
   ]
  },
  {
   "cell_type": "markdown",
   "id": "df9f2a3d-fa15-4f50-9556-0c6d64eea31d",
   "metadata": {},
   "source": [
    "##  Summary Table:\n",
    "\n",
    "| Measure         | What It Tells You                  | Usefulness                                       |\n",
    "| --------------- | ---------------------------------- | ------------------------------------------------ |\n",
    "| **Skewness**    | Asymmetry of the data distribution | Understand direction of data skew                |\n",
    "| **Kurtosis**    | Tailedness (extreme values)        | Understand presence of outliers                  |\n",
    "| **Percentiles** | Data ranking/splitting             | Used in grading, benchmarking, outlier detection |\n",
    "| **Quartiles**   | 25%, 50%, 75% positions in data    | Core to box plots and IQR                        |\n",
    "\n",
    "\n"
   ]
  },
  {
   "cell_type": "markdown",
   "id": "9f07d26d-2297-473d-9127-f8a4e3804b8e",
   "metadata": {},
   "source": [
    "\n",
    "## 📊 **Why Visualize Data?**\n",
    "\n",
    "* Makes large data easy to understand\n",
    "* Shows **central tendency**, **variability**, **distribution**, **outliers**\n",
    "* Helps explain insights to others (non-technical people too)\n",
    "\n",
    "---\n",
    "\n",
    "## ✅ Key Visualization Tools in Descriptive Statistics\n",
    "\n",
    "### 1. **Histogram**\n",
    "\n",
    "* **Purpose**: Shows **frequency distribution** of numeric data.\n",
    "* **Looks like**: Bars touching each other.\n",
    "* **Used for**: Shape of distribution (normal, skewed, etc.)\n",
    "\n",
    "\n",
    "\n",
    "\n",
    "\n",
    "\n",
    "\n",
    "\n",
    "\n",
    "\n",
    "\n",
    "\n",
    "\n",
    "\n",
    "\n"
   ]
  },
  {
   "cell_type": "code",
   "execution_count": 86,
   "id": "605e7f60-91fa-46bb-a7ab-cd3969f7240d",
   "metadata": {},
   "outputs": [
    {
     "data": {
      "image/png": "[encoded data removed]",
      "text/plain": [
       "<Figure size 640x480 with 1 Axes>"
      ]
     },
     "metadata": {},
     "output_type": "display_data"
    }
   ],
   "source": [
    "import matplotlib.pyplot as plt\n",
    "import seaborn as sns\n",
    "\n",
    "sns.histplot([50, 60, 60, 70, 80, 90, 100], bins=5, color='skyblue')\n",
    "plt.title(\"Histogram\")\n",
    "plt.xlabel(\"Scores\")\n",
    "plt.ylabel(\"Frequency\")\n",
    "plt.show()"
   ]
  },
  {
   "cell_type": "markdown",
   "id": "e92d86c8-4240-4f7e-a916-e4b82de62a6b",
   "metadata": {},
   "source": [
    "### 2. **Box Plot (Box-and-Whisker Plot)**\n",
    "\n",
    "* **Purpose**: Shows **median, quartiles, outliers**, and **IQR**.\n",
    "* **Used for**: Detecting **spread** and **outliers**.\n",
    "* Contains:\n",
    "\n",
    "  * Q1, Q2 (median), Q3\n",
    "  * Whiskers\n",
    "  * Outliers (dots)\n"
   ]
  },
  {
   "cell_type": "code",
   "execution_count": 89,
   "id": "a2c7020c-c3a4-40d4-84bf-a89dc988341a",
   "metadata": {},
   "outputs": [
    {
     "data": {
      "image/png": "[encoded data removed]",
      "text/plain": [
       "<Figure size 640x480 with 1 Axes>"
      ]
     },
     "metadata": {},
     "output_type": "display_data"
    }
   ],
   "source": [
    "sns.boxplot(data=[50, 60, 60, 70, 80, 90, 100])\n",
    "plt.title(\"Box Plot\")\n",
    "plt.show()"
   ]
  },
  {
   "cell_type": "markdown",
   "id": "b6c76d4d-67d3-45a0-8c88-a8d31ad89ea6",
   "metadata": {},
   "source": [
    "### 3. **Bar Chart**\n",
    "\n",
    "* **Purpose**: Compare **categories** using heights of bars.\n",
    "* **Used for**: Categorical variables (e.g., favorite fruit, gender, region)"
   ]
  },
  {
   "cell_type": "code",
   "execution_count": 92,
   "id": "fe71634b-0aef-44a9-8d66-6bff6d195bd6",
   "metadata": {},
   "outputs": [
    {
     "data": {
      "image/png": "[encoded data removed]",
      "text/plain": [
       "<Figure size 640x480 with 1 Axes>"
      ]
     },
     "metadata": {},
     "output_type": "display_data"
    }
   ],
   "source": [
    "sns.countplot(x=['Apple', 'Banana', 'Apple', 'Mango'])\n",
    "plt.title(\"Bar Chart\")\n",
    "plt.show()"
   ]
  },
  {
   "cell_type": "markdown",
   "id": "f15fda7e-fe32-4e98-8271-ff74a33381c3",
   "metadata": {},
   "source": [
    "\n",
    "### 4. **Pie Chart**\n",
    "\n",
    "* **Purpose**: Shows **percentage or proportion** of categories.\n",
    "* Less preferred in professional analytics but okay for simple cases.\n",
    "\n",
    "\n",
    "\n"
   ]
  },
  {
   "cell_type": "code",
   "execution_count": 95,
   "id": "13c2bcdd-54ba-4b9c-972e-699ceeeb0585",
   "metadata": {},
   "outputs": [
    {
     "data": {
      "image/png": "[encoded data removed]",
      "text/plain": [
       "<Figure size 640x480 with 1 Axes>"
      ]
     },
     "metadata": {},
     "output_type": "display_data"
    }
   ],
   "source": [
    "labels = ['Apple', 'Banana', 'Mango']\n",
    "sizes = [40, 35, 25]\n",
    "plt.pie(sizes, labels=labels, autopct='%1.1f%%')\n",
    "plt.title(\"Pie Chart\")\n",
    "plt.show()"
   ]
  },
  {
   "cell_type": "markdown",
   "id": "a767133e-d5ed-4091-93fe-3b1c2f4817cd",
   "metadata": {},
   "source": [
    "### 5. **Line Plot**\n",
    "\n",
    "* **Purpose**: Shows **trends over time** (time series)\n",
    "* X-axis → time, Y-axis → value\n"
   ]
  },
  {
   "cell_type": "code",
   "execution_count": 98,
   "id": "15086c8b-6812-454a-9fdd-8c3983ffa513",
   "metadata": {},
   "outputs": [
    {
     "data": {
      "image/png": "[encoded data removed]",
      "text/plain": [
       "<Figure size 640x480 with 1 Axes>"
      ]
     },
     "metadata": {},
     "output_type": "display_data"
    }
   ],
   "source": [
    "import pandas as pd\n",
    "data = pd.Series([10, 15, 20, 25], index=['Jan', 'Feb', 'Mar', 'Apr'])\n",
    "data.plot(kind='line', marker='o')\n",
    "plt.title(\"Line Plot\")\n",
    "plt.ylabel(\"Sales\")\n",
    "plt.show()"
   ]
  },
  {
   "cell_type": "markdown",
   "id": "c49ce7c7-9a7d-40b7-be15-fb3912015a5f",
   "metadata": {},
   "source": [
    "### 6. **Scatter Plot**\n",
    "\n",
    "* **Purpose**: Shows **relationship between two numeric variables**\n",
    "* Helps spot correlations\n",
    "\n"
   ]
  },
  {
   "cell_type": "code",
   "execution_count": 101,
   "id": "7e557fea-8557-4437-89b7-bace1457a8e0",
   "metadata": {},
   "outputs": [
    {
     "data": {
      "image/png": "[encoded data removed]",
      "text/plain": [
       "<Figure size 640x480 with 1 Axes>"
      ]
     },
     "metadata": {},
     "output_type": "display_data"
    }
   ],
   "source": [
    "sns.scatterplot(x=[1, 2, 3, 4], y=[2, 4, 6, 8])\n",
    "plt.title(\"Scatter Plot\")\n",
    "plt.xlabel(\"X\")\n",
    "plt.ylabel(\"Y\")\n",
    "plt.show()"
   ]
  },
  {
   "cell_type": "markdown",
   "id": "38018c21-27cb-4ac9-8be9-063d596b6d9e",
   "metadata": {},
   "source": [
    "### 7. **Heatmap (optional advanced)**\n",
    "\n",
    "* **Purpose**: Shows correlation or frequency using color shades.\n",
    "* Used in: Correlation matrices, tables, categorical counts\n",
    "\n"
   ]
  },
  {
   "cell_type": "code",
   "execution_count": 104,
   "id": "56fcd5a0-0325-4a4e-841c-f65c59eccea5",
   "metadata": {},
   "outputs": [
    {
     "data": {
      "image/png": "[encoded data removed]",
      "text/plain": [
       "<Figure size 640x480 with 2 Axes>"
      ]
     },
     "metadata": {},
     "output_type": "display_data"
    }
   ],
   "source": [
    "import numpy as np\n",
    "data = np.array([[1, 2], [3, 4]])\n",
    "sns.heatmap(data, annot=True, cmap='YlGnBu')\n",
    "plt.title(\"Heatmap\")\n",
    "plt.show()"
   ]
  },
  {
   "cell_type": "markdown",
   "id": "9f48a1a4-b973-49db-86ae-07683db286f7",
   "metadata": {},
   "source": [
    "## ✅ Summary Table\n",
    "\n",
    "| Visualization | Best For                            | Data Type          |\n",
    "| ------------- | ----------------------------------- | ------------------ |\n",
    "| Histogram     | Distribution & frequency            | Numeric            |\n",
    "| Box Plot      | Spread, outliers, IQR               | Numeric            |\n",
    "| Bar Chart     | Comparing category counts           | Categorical        |\n",
    "| Pie Chart     | Proportion of categories            | Categorical        |\n",
    "| Line Plot     | Trends over time                    | Time series        |\n",
    "| Scatter Plot  | Relationships between two variables | Numeric vs Numeric |\n",
    "| Heatmap       | Correlation & frequency tables      | Numeric or matrix  |\n",
    "\n"
   ]
  },
  {
   "cell_type": "markdown",
   "id": "1218d2cb-2e87-47ee-bf89-0ee19d8eda9b",
   "metadata": {},
   "source": [
    "### 📌 What Are **Outliers** in Statistics?\n",
    "\n",
    "**Outliers** are data points that differ significantly from other observations in a dataset. They may be **much higher or lower** than the rest of the values.\n",
    "\n",
    "---\n",
    "\n",
    "### 🔎 Why Do Outliers Matter?\n",
    "\n",
    "* They can **skew your analysis** and affect the **mean, standard deviation**, and **regression results**.\n",
    "* Outliers can signal **errors in data entry** or **important rare events**.\n",
    "* In machine learning, they can reduce model accuracy.\n",
    "\n",
    "---\n",
    "\n",
    "### 📐 How to Detect Outliers\n",
    "\n",
    "#### 1. **Using Visualization**\n",
    "\n",
    "* **Box Plot**: Shows outliers as dots outside the whiskers.\n",
    "* **Scatter Plot**: Helps spot unusual data points.\n",
    "* **Histogram**: Gaps or bars far away from the center may be outliers.\n",
    "\n",
    "#### 2. **Using Statistics**\n",
    "\n",
    "* **Z-score method**:\n",
    "\n",
    "  $$\n",
    "  Z = \\frac{(X - \\mu)}{\\sigma}\n",
    "  $$\n",
    "\n",
    "  * If |Z| > 3 → Outlier\n",
    "\n",
    "* **IQR method** (Interquartile Range):\n",
    "\n",
    "  $$\n",
    "  \\text{IQR} = Q3 - Q1\n",
    "  $$\n",
    "\n",
    "  * Lower Bound = Q1 - 1.5 × IQR\n",
    "  * Upper Bound = Q3 + 1.5 × IQR\n",
    "  * Anything outside this range is an outlier.\n",
    "\n",
    "---\n",
    "\n",
    "### ✅ What to Do With Outliers?\n",
    "\n",
    "* **Keep** them if they are valid (e.g., real extreme values).\n",
    "* **Remove** them if they are errors or noise.\n",
    "* **Transform** data (e.g., log scale) to reduce the impact.\n",
    "* **Use robust methods** (like median, IQR) instead of mean-based methods.\n",
    "\n",
    "\n",
    "\n"
   ]
  },
  {
   "cell_type": "code",
   "execution_count": 109,
   "id": "59db1c79-450d-4f35-9872-0b03f0722c5d",
   "metadata": {},
   "outputs": [
    {
     "name": "stdout",
     "output_type": "stream",
     "text": [
      "Outliers:\n",
      "0     10\n",
      "5    120\n",
      "dtype: int64\n"
     ]
    }
   ],
   "source": [
    "import numpy as np\n",
    "import pandas as pd\n",
    "\n",
    "# Sample data\n",
    "data = pd.Series([10, 12, 13, 14, 13, 120, 15, 13, 14])\n",
    "\n",
    "Q1 = data.quantile(0.25)\n",
    "Q3 = data.quantile(0.75)\n",
    "IQR = Q3 - Q1\n",
    "\n",
    "lower_bound = Q1 - 1.5 * IQR\n",
    "upper_bound = Q3 + 1.5 * IQR\n",
    "\n",
    "outliers = data[(data < lower_bound) | (data > upper_bound)]\n",
    "\n",
    "print(\"Outliers:\")\n",
    "print(outliers)"
   ]
  },
  {
   "cell_type": "code",
   "execution_count": null,
   "id": "cad8b7bc-1f15-4e24-9727-8fd4e7f8d317",
   "metadata": {},
   "outputs": [],
   "source": []
  }
 ],
 "metadata": {
  "kernelspec": {
   "display_name": "Python [conda env:base] *",
   "language": "python",
   "name": "conda-base-py"
  },
  "language_info": {
   "codemirror_mode": {
    "name": "ipython",
    "version": 3
   },
   "file_extension": ".py",
   "mimetype": "text/x-python",
   "name": "python",
   "nbconvert_exporter": "python",
   "pygments_lexer": "ipython3",
   "version": "3.12.7"
  }
 },
 "nbformat": 4,
 "nbformat_minor": 5
}
