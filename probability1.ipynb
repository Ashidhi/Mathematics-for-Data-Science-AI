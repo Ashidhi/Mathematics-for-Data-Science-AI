{
 "cells": [
  {
   "cell_type": "markdown",
   "id": "08d41fcb-142d-4477-9b22-008d961eabc7",
   "metadata": {},
   "source": [
    "# Probability Basics\n",
    "Probability is the chance that something will occur. In some cases, probability can be calculated but in other cases it may be an educated guess.\n",
    "\n",
    "Example : What are the chances I will flip heads with this coin? There is a 50% probability.\n",
    "\n",
    "Here’s a clear explanation of the **importance of probability** — especially for Data Science, Artificial Intelligence (AI), and your daily life.\n",
    "\n",
    "---\n",
    "\n",
    "### 🌟 **Why Probability Is Important**\n",
    "\n",
    "---\n",
    "\n",
    "#### 1. **Foundation of Data Science and Machine Learning**\n",
    "\n",
    "* Many ML models **rely on probability** to make predictions.\n",
    "\n",
    "  * Example: **Naive Bayes Classifier** is built entirely on Bayes’ Theorem.\n",
    "* **Uncertainty handling:** Probability allows machines to **reason under uncertainty** and make decisions with incomplete data.\n",
    "\n",
    "---\n",
    "\n",
    "#### 2. **Crucial in AI Decision Making**\n",
    "\n",
    "* AI systems often need to **predict outcomes** or **estimate chances** of events.\n",
    "\n",
    "  * Example: In **natural language processing (NLP)**, the next word prediction uses **conditional probabilities**.\n",
    "  * **Recommendation systems** use **probability distributions** to rank content.\n",
    "\n",
    "---\n",
    "\n",
    "####  3. **Essential for Statistical Thinking**\n",
    "\n",
    "* All of **statistics is built on probability**.\n",
    "\n",
    "  * **Hypothesis testing, confidence intervals, p-values,** and **regression models** all use probability theory to measure reliability and significance.\n",
    "\n",
    "---\n",
    "\n",
    "####  4. **Helps Model Real-World Random Events**\n",
    "\n",
    "* Whether it’s **weather forecasting**, **sports predictions**, or **stock market analysis**, probability is used to model randomness and risk.\n",
    "\n",
    "  * Helps answer questions like:\n",
    "\n",
    "    * What is the **chance of rain tomorrow**?\n",
    "    * What’s the **risk of a loan default**?\n",
    "\n",
    "---\n",
    "\n",
    "####  5. **Decision Making in Uncertainty**\n",
    "\n",
    "* **Probability theory helps us make smarter decisions** when outcomes are uncertain.\n",
    "\n",
    "  * Example: In **medical diagnosis**, probability helps estimate the likelihood of a disease given symptoms.\n",
    "  * In business, it helps with **risk analysis and strategic planning**.\n",
    "\n",
    "---\n",
    "\n",
    "####  6. **Underpins Advanced Concepts**\n",
    "\n",
    "* Used in:\n",
    "\n",
    "  * **Bayesian Networks**\n",
    "  * **Markov Chains**\n",
    "  * **Hidden Markov Models**\n",
    "  * **Monte Carlo simulations**\n",
    "  * **Reinforcement learning**\n",
    "\n",
    "---\n",
    "\n",
    "####  7. **Improves Logical & Analytical Thinking**\n",
    "\n",
    "* Learning probability boosts your ability to **reason logically**, **analyze risks**, and **solve complex problems**.\n",
    "\n",
    "---\n",
    "\n",
    "####  Summary Table:\n",
    "\n",
    "| Field            | Use of Probability                         |\n",
    "| ---------------- | ------------------------------------------ |\n",
    "| Machine Learning | Predict outcomes, model uncertainty        |\n",
    "| Data Science     | Hypothesis testing, confidence levels      |\n",
    "| AI & NLP         | Predict next word, understand intent       |\n",
    "| Finance          | Risk analysis, stock prediction            |\n",
    "| Healthcare       | Disease likelihood, medical diagnostics    |\n",
    "| Everyday Life    | Decision making, games, weather, insurance |\n",
    "\n",
    "\n"
   ]
  },
  {
   "cell_type": "markdown",
   "id": "5bd08064-6bbf-4279-bfc2-711e9afec8ad",
   "metadata": {},
   "source": [
    "\n",
    "\n",
    "## 🎯 1. **Experiment, Sample Space, and Event**\n",
    "\n",
    "\n",
    "* **Experiment:**\n",
    "  A process that leads to an outcome.\n",
    "  👉 *Example:* Tossing a coin, rolling a die.\n",
    "\n",
    "* **Sample Space (S):**\n",
    "  The set of **all possible outcomes** of an experiment.\n",
    "  👉 *Example:*\n",
    "\n",
    "  * Tossing a coin → S = {Heads, Tails}\n",
    "  * Rolling a die → S = {1, 2, 3, 4, 5, 6}\n",
    "\n",
    "* **Event (E):**\n",
    "  A **subset of the sample space**. It's one or more outcomes we are interested in.\n",
    "  👉 *Example:*\n",
    "\n",
    "  * Event A = Getting an even number → E = {2, 4, 6}\n",
    "\n",
    "\n",
    "\n",
    "\n",
    "\n",
    "\n",
    "\n",
    "\n",
    "\n"
   ]
  },
  {
   "cell_type": "code",
   "execution_count": 3,
   "id": "444ce7de-f663-413b-bdef-2dc3bc87f488",
   "metadata": {},
   "outputs": [
    {
     "name": "stdout",
     "output_type": "stream",
     "text": [
      "Sample Space: [1, 2, 3, 4, 5, 6]\n",
      "Event (Even numbers): [2, 4, 6]\n"
     ]
    }
   ],
   "source": [
    "\n",
    "# Experiment: Rolling a die\n",
    "sample_space = [1, 2, 3, 4, 5, 6]  # Sample Space (S)\n",
    "\n",
    "# Define an Event: Get an even number\n",
    "event_even = [x for x in sample_space if x % 2 == 0]\n",
    "\n",
    "print(\"Sample Space:\", sample_space)\n",
    "print(\"Event (Even numbers):\", event_even)\n"
   ]
  },
  {
   "cell_type": "markdown",
   "id": "ddbf9aad-a6a1-4561-8a5c-c02b75308e1d",
   "metadata": {},
   "source": [
    "## 🎯 2. **Outcomes**\n",
    "\n",
    "* **Outcome:**\n",
    "  A **single result** from an experiment.\n",
    "  👉 *Example:*\n",
    "\n",
    "  * Rolling a die and getting 3 → outcome is **3**\n",
    "  * Tossing a coin and getting heads → outcome is **Heads**\n",
    "\n",
    "* One experiment can have **many outcomes**, but each run gives **only one outcome**.\n",
    "\n"
   ]
  },
  {
   "cell_type": "code",
   "execution_count": 6,
   "id": "3e46d75c-f278-4aa5-a4c5-93f090d973e1",
   "metadata": {},
   "outputs": [
    {
     "name": "stdout",
     "output_type": "stream",
     "text": [
      "Outcome of rolling a die: 4\n"
     ]
    }
   ],
   "source": [
    "\n",
    "import random\n",
    "\n",
    "# Simulate rolling a die\n",
    "outcome = random.choice([1, 2, 3, 4, 5, 6])\n",
    "print(\"Outcome of rolling a die:\", outcome)\n"
   ]
  },
  {
   "cell_type": "markdown",
   "id": "8764d86e-eb56-43cc-a68c-844667b22579",
   "metadata": {},
   "source": [
    "## 🎯 3. **Mutually Exclusive Events**\n",
    "\n",
    "\n",
    "\n",
    "* Two events are **mutually exclusive** if **they cannot happen at the same time**.\n",
    "  👉 *Example:*\n",
    "\n",
    "  * Rolling a 2 and rolling a 5 at the same time — **mutually exclusive**\n",
    "  * Getting an even number and getting an odd number — **mutually exclusive**\n",
    "\n",
    "  $$\n",
    "  P(A \\cap B) = 0\n",
    "  $$\n",
    "\n"
   ]
  },
  {
   "cell_type": "code",
   "execution_count": 9,
   "id": "3233f733-f718-4e28-a9fb-5615c86be8cd",
   "metadata": {},
   "outputs": [
    {
     "name": "stdout",
     "output_type": "stream",
     "text": [
      "Are A and B mutually exclusive? True\n"
     ]
    }
   ],
   "source": [
    "\n",
    "# Example of mutually exclusive events\n",
    "event_A = {2}       # Rolling a 2\n",
    "event_B = {5}       # Rolling a 5\n",
    "\n",
    "# Check if they are mutually exclusive\n",
    "intersection = event_A.intersection(event_B)\n",
    "print(\"Are A and B mutually exclusive?\", intersection == set())\n",
    "\n"
   ]
  },
  {
   "cell_type": "markdown",
   "id": "2ca90b4d-ae52-4c1e-b13b-4fee65c21f33",
   "metadata": {},
   "source": [
    "\n",
    "## 🎯 4. **Independent vs. Dependent Events**\n",
    "\n",
    "\n",
    "* **Independent Events:**\n",
    "  The occurrence of one **does NOT affect** the other.\n",
    "  👉 *Example:* Tossing a coin and rolling a die. The result of one doesn't affect the other.\n",
    "\n",
    "* **Dependent Events:**\n",
    "  The occurrence of one **affects** the probability of the other.\n",
    "  👉 *Example:* Drawing two cards **without replacement** from a deck.\n",
    "\n",
    "$$\n",
    "\\text{Independent: } P(A \\cap B) = P(A) \\cdot P(B) \\\\\n",
    "\\text{Dependent: } P(A \\cap B) = P(A) \\cdot P(B|A)\n",
    "$$\n",
    "\n"
   ]
  },
  {
   "cell_type": "code",
   "execution_count": 12,
   "id": "243f8b52-86fc-44ce-a9b3-abd8271c1b60",
   "metadata": {},
   "outputs": [
    {
     "name": "stdout",
     "output_type": "stream",
     "text": [
      "Coin Toss Outcome: Tails\n",
      "Die Roll Outcome: 2\n"
     ]
    }
   ],
   "source": [
    "\n",
    "# Independent event simulation: Toss coin and roll die\n",
    "coin = random.choice([\"Heads\", \"Tails\"])\n",
    "die = random.choice([1, 2, 3, 4, 5, 6])\n",
    "\n",
    "print(\"Coin Toss Outcome:\", coin)\n",
    "print(\"Die Roll Outcome:\", die)\n"
   ]
  },
  {
   "cell_type": "markdown",
   "id": "d4a88470-4c66-49b8-adf9-920e3c652b88",
   "metadata": {},
   "source": [
    "## 🎯 5. **Exhaustive Events**\n",
    "\n",
    "### 📘 Theory:\n",
    "\n",
    "* Events are **exhaustive** if **they cover the entire sample space**.\n",
    "  👉 *Example:*\n",
    "\n",
    "  * S = {1, 2, 3, 4, 5, 6}\n",
    "  * Events: A = {1, 2, 3}, B = {4, 5, 6} → Together A and B are **exhaustive**.\n",
    "\n",
    "$$\n",
    "A \\cup B = S\n",
    "$$\n",
    "\n"
   ]
  },
  {
   "cell_type": "code",
   "execution_count": 16,
   "id": "47c943ae-99ec-478f-8cce-55e17cc8445e",
   "metadata": {},
   "outputs": [
    {
     "name": "stdout",
     "output_type": "stream",
     "text": [
      "Are A and B exhaustive? True\n"
     ]
    }
   ],
   "source": [
    "\n",
    "# Exhaustive events example\n",
    "sample_space = set([1, 2, 3, 4, 5, 6])\n",
    "event_A = {1, 2, 3}\n",
    "event_B = {4, 5, 6}\n",
    "\n",
    "combined_events = event_A.union(event_B)\n",
    "print(\"Are A and B exhaustive?\", combined_events == sample_space)\n"
   ]
  },
  {
   "cell_type": "markdown",
   "id": "f08d21ec-0473-4063-b830-89888e01cd82",
   "metadata": {},
   "source": [
    "\n",
    "### Summary Table\n",
    "\n",
    "| Term                   | Meaning                                                     |\n",
    "| ---------------------- | ----------------------------------------------------------- |\n",
    "| **Experiment**         | Process leading to an outcome                               |\n",
    "| **Sample Space (S)**   | Set of all possible outcomes                                |\n",
    "| **Event (E)**          | Subset of sample space (outcomes of interest)               |\n",
    "| **Outcome**            | A single result of an experiment                            |\n",
    "| **Mutually Exclusive** | Events that cannot happen together                          |\n",
    "| **Independent Events** | One event doesn’t affect the other                          |\n",
    "| **Dependent Events**   | One event affects the outcome of the other                  |\n",
    "| **Exhaustive Events**  | Events that together cover all outcomes in the sample space |\n"
   ]
  },
  {
   "cell_type": "markdown",
   "id": "d7430e3e-50f5-4855-96b1-c3ea3bfd3ebf",
   "metadata": {},
   "source": [
    "\n",
    "\n",
    "# 🎯 Types of Probability \n",
    "---\n",
    "\n",
    "## 1️⃣ Classical Probability (Also called *A Priori* or *Theoretical* Probability)\n",
    "\n",
    "### 🧠 Definition:\n",
    "\n",
    "Classical probability is based on **formal reasoning** and assumes that all outcomes in a sample space are **equally likely**. It's derived *before* any experiment is conducted — hence called **a priori**.\n",
    "\n",
    "### 🧾 Formula:\n",
    "\n",
    "$$\n",
    "P(E) = \\frac{\\text{Number of favorable outcomes}}{\\text{Total number of equally likely outcomes}}\n",
    "$$\n",
    "\n",
    "Where:\n",
    "\n",
    "* $E$ is the event of interest.\n",
    "* The denominator counts all **possible outcomes** in the defined **sample space**.\n",
    "* The numerator counts only the **favorable** outcomes (that satisfy the event).\n",
    "\n",
    "### 🧪 Assumptions:\n",
    "\n",
    "1. The experiment is **well-defined**.\n",
    "2. The outcomes are **finite** and **equally likely**.\n",
    "3. No **bias** exists in the selection process.\n",
    "\n",
    "### 🧠 Real-Life Examples:\n",
    "\n",
    "* Tossing a fair coin → Sample Space: {H, T} → $P(H) = \\frac{1}{2}$\n",
    "* Rolling a fair die → S = {1, 2, 3, 4, 5, 6} → $P(\\text{even}) = \\frac{3}{6} = 0.5$\n",
    "\n",
    "### 🧠 Applications:\n",
    "\n",
    "* **Game theory**\n",
    "* **Probability puzzles**\n",
    "* **Basic AI decisions when assumptions are known**\n",
    "\n",
    "---\n",
    "\n",
    "## 2️⃣ Empirical Probability (Also called *Frequentist* or *Experimental* Probability)\n",
    "\n",
    "### 🧠 Definition:\n",
    "\n",
    "Empirical probability is derived from **actual observations** or **real experiments**. Instead of assuming outcomes are equally likely, it **relies on data** from repeated trials.\n",
    "\n",
    "It is called **frequentist** because the probability is interpreted as the **limit of relative frequency** of an event as the number of trials increases.\n",
    "\n",
    "### 🧾 Formula:\n",
    "\n",
    "$$\n",
    "P(E) = \\frac{\\text{Number of times event E occurs}}{\\text{Total number of trials}}\n",
    "$$\n",
    "\n",
    "As $n \\to \\infty$, this estimate **approaches the true probability** (Law of Large Numbers).\n",
    "\n",
    "### 🧪 Assumptions:\n",
    "\n",
    "1. The experiment is **repeatable**.\n",
    "2. The frequency stabilizes over a large number of trials.\n",
    "3. There's **no assumption of equal likelihood**.\n",
    "\n",
    "### 🧠 Real-Life Examples:\n",
    "\n",
    "* You toss a coin 1000 times and observe 512 heads →\n",
    "  $P(H) = \\frac{512}{1000} = 0.512$\n",
    "* In medical testing: 30 out of 100 patients recover after a drug →\n",
    "  $P(\\text{Recovery}) = 0.30$\n",
    "\n",
    "### 🧠 Applications:\n",
    "\n",
    "* **Data-driven machine learning**\n",
    "* **A/B testing**\n",
    "* **Monte Carlo simulations**\n",
    "* **Medical/clinical trial statistics**\n",
    "\n",
    "### 📌 The Law of Large Numbers:\n",
    "\n",
    "As the number of trials increases, the empirical probability **converges** to the true (classical) probability.\n",
    "\n",
    "---\n",
    "\n",
    "## 3️⃣ Subjective Probability\n",
    "\n",
    "### 🧠 Definition:\n",
    "\n",
    "Subjective probability expresses a **personal belief** or **judgment** about how likely an event is, **without needing formal data or experiments**.\n",
    "\n",
    "It's called **subjective** because the probability is based on a **person's experience, intuition, or incomplete knowledge**, and may **differ from person to person**.\n",
    "\n",
    "This type is used when:\n",
    "\n",
    "* The sample space is **unknown or vague**\n",
    "* **No historical data** exists\n",
    "* Decision-makers must rely on **intuition, judgment, or expert opinion**\n",
    "\n",
    "### 🧾 No Formal Formula:\n",
    "\n",
    "$$\n",
    "\\text{Subjective Probability is not computed. It is assigned.}\n",
    "$$\n",
    "\n",
    "Instead of a formula, it’s often represented by a number from **0 to 1**, assigned by belief:\n",
    "\n",
    "* 0 → Impossible\n",
    "* 1 → Certain\n",
    "* 0.75 → Strong belief\n",
    "* 0.5 → Uncertainty\n",
    "\n",
    "### 🧠 Real-Life Examples:\n",
    "\n",
    "* A doctor believes there's an 85% chance a patient will recover — based on years of experience.\n",
    "* A stock trader estimates a 60% chance a stock will go up based on intuition and market trends.\n",
    "* You feel there is a 70% chance it will rain tomorrow — even without checking weather data.\n",
    "\n",
    "### 🧠 Applications:\n",
    "\n",
    "* **Bayesian statistics (priors)**\n",
    "* **Expert systems**\n",
    "* **Financial market analysis**\n",
    "* **Risk and uncertainty in project management**\n",
    "\n",
    "### ⚠️ Characteristics:\n",
    "\n",
    "* **Not objective** — varies by person or context.\n",
    "* Can lead to **bias or overconfidence**.\n",
    "* Often used when **formal data is unavailable**.\n",
    "\n",
    "---\n",
    "\n",
    "### 🧠 Deeper Comparison Table\n",
    "\n",
    "| Feature          | Classical                  | Empirical                    | Subjective                       |\n",
    "| ---------------- | -------------------------- | ---------------------------- | -------------------------------- |\n",
    "| Based on         | Logic and equal likelihood | Observed data/experiments    | Personal judgment or belief      |\n",
    "| Requires data?   | ❌ No                       | ✅ Yes                        | ❌ Not necessarily                |\n",
    "| Formula          | $\\frac{favorable}{total}$  | $\\frac{successes}{trials}$   | Not formal                       |\n",
    "| Bias possibility | ❌ No                       | ✅ Possible (sampling errors) | ✅ High (opinion-based)           |\n",
    "| Objectivity      | ✅ High                     | ✅ Moderate                   | ❌ Low                            |\n",
    "| Use Case Example | Tossing dice, cards        | Coin toss simulation         | Estimating election chances      |\n",
    "| Use in AI/DS     | Model assumptions          | Data-driven training         | Prior beliefs in Bayesian models |\n",
    "\n",
    "---\n",
    "\n",
    "## 🧠 Summary\n",
    "\n",
    "* **Classical Probability** is used when the **structure is known** and **all outcomes are equally likely**.\n",
    "* **Empirical Probability** is used when you **have observed data** and want to **calculate real-world frequencies**.\n",
    "* **Subjective Probability** is based on **intuition, experience, or expert knowledge**, especially when **data is missing or uncertain**.\n",
    "\n",
    "\n"
   ]
  },
  {
   "cell_type": "code",
   "execution_count": 21,
   "id": "e55c77e5-3da5-45a1-b6c4-68b1a98d0b4b",
   "metadata": {},
   "outputs": [
    {
     "name": "stdout",
     "output_type": "stream",
     "text": [
      "Classical Probability of getting even number on a die: 0.5\n"
     ]
    }
   ],
   "source": [
    "# Classical probability: Rolling a die\n",
    "total_outcomes = 6\n",
    "favorable_outcomes = len([x for x in range(1, 7) if x % 2 == 0])  # Even numbers: 2,4,6\n",
    "\n",
    "classical_prob = favorable_outcomes / total_outcomes\n",
    "print(\"Classical Probability of getting even number on a die:\", classical_prob)\n"
   ]
  },
  {
   "cell_type": "code",
   "execution_count": 23,
   "id": "55072500-0c41-4b89-a91b-d63b9356f659",
   "metadata": {},
   "outputs": [
    {
     "name": "stdout",
     "output_type": "stream",
     "text": [
      "Empirical Probability of getting Heads: 0.476\n"
     ]
    }
   ],
   "source": [
    "#Empirical Probability\n",
    "import random\n",
    "\n",
    "# Simulate tossing a coin 1000 times\n",
    "trials = 1000\n",
    "heads_count = 0\n",
    "\n",
    "for _ in range(trials):\n",
    "    if random.choice(['Heads', 'Tails']) == 'Heads':\n",
    "        heads_count += 1\n",
    "\n",
    "empirical_prob = heads_count / trials\n",
    "print(\"Empirical Probability of getting Heads:\", empirical_prob)\n"
   ]
  },
  {
   "cell_type": "markdown",
   "id": "dd0c9dd4-1e5f-4f6d-bd5e-f445c1d574f3",
   "metadata": {},
   "source": [
    "\n",
    "# 🔢 Permutations \n",
    "\n",
    "---\n",
    "\n",
    "#### 🎯 What is a Permutation?\n",
    "\n",
    "A **permutation** is an **arrangement of items in a specific order**.\n",
    "So, **order matters** in permutations.\n",
    "\n",
    "> 💡 If you're arranging or sequencing things, you're dealing with permutations.\n",
    "\n",
    "---\n",
    "\n",
    "##  Formula for Permutations\n",
    "\n",
    "There are **two main formulas** depending on whether you're using **all elements** or just a **selection** of them.\n",
    "\n",
    "---\n",
    "\n",
    "#### 1️⃣ **Permutations of *n* different objects:**\n",
    "\n",
    "When arranging all *n* distinct objects:\n",
    "\n",
    "$$\n",
    "P(n) = n! = n \\times (n-1) \\times (n-2) \\dots \\times 1\n",
    "$$\n",
    "\n",
    "> Example: How many ways to arrange 3 books (A, B, C)?\n",
    ">\n",
    "> $$\n",
    "> $$\n",
    "\n",
    "P(3) = 3! = 3 \\times 2 \\times 1 = 6\n",
    "]\n",
    "\n",
    "---\n",
    "\n",
    "#### 2️⃣ **Permutations of *r* objects from *n* total:**\n",
    "\n",
    "When selecting and arranging **r out of n** objects:\n",
    "\n",
    "$$\n",
    "P(n, r) = \\frac{n!}{(n - r)!}\n",
    "$$\n",
    "\n",
    "> Example: How many ways to arrange 2 letters out of A, B, C?\n",
    ">\n",
    "> $$\n",
    "> $$\n",
    "\n",
    "P(3, 2) = \\frac{3!}{(3-2)!} = \\frac{6}{1} = 6\n",
    "]\n",
    "\n",
    "### 🔄 Each permutation is a **unique ordered arrangement**.\n",
    "\n",
    "---\n",
    "\n",
    "## 🧠 Real-Life Examples\n",
    "\n",
    "| Scenario                             | Is it a Permutation? | Why?                                          |\n",
    "| ------------------------------------ | -------------------- | --------------------------------------------- |\n",
    "| Arranging students in a line         | ✅ Yes                | Order matters (who is first, second, etc.)    |\n",
    "| Choosing team members                | ❌ No                 | Order doesn't matter → it's a **combination** |\n",
    "| Generating passwords with no repeats | ✅ Yes                | Order matters in passwords                    |\n",
    "| Racing positions (1st, 2nd, 3rd)     | ✅ Yes                | Placement/order matters                       |\n",
    "\n",
    "\n",
    "\n",
    "####  Common Mistakes to Avoid\n",
    "\n",
    "| Mistake                                    | Why It’s Wrong                      |\n",
    "| ------------------------------------------ | ----------------------------------- |\n",
    "| Using combinations when order matters      | Permutations ≠ Combinations         |\n",
    "| Forgetting to subtract in P(n, r)          | Always use (n - r)! in denominator  |\n",
    "| Using `n^r` when repetition is not allowed | Only valid if repetition is allowed |\n",
    "\n",
    "---\n",
    "\n",
    "##  Summary Table\n",
    "\n",
    "| Type                    | Formula               | Order Matters? | Repetition |\n",
    "| ----------------------- | --------------------- | -------------- | ---------- |\n",
    "| All items               | $n!$                  | ✅ Yes          | ❌ No       |\n",
    "| Some items              | $\\frac{n!}{(n - r)!}$ | ✅ Yes          | ❌ No       |\n",
    "| With repetition allowed | $n^r$                 | ✅ Yes          | ✅ Yes      |\n",
    "\n"
   ]
  },
  {
   "cell_type": "code",
   "execution_count": 26,
   "id": "487027da-4642-4f7f-b856-7222b489c927",
   "metadata": {},
   "outputs": [
    {
     "name": "stdout",
     "output_type": "stream",
     "text": [
      "Permutations of 4 items: 24\n"
     ]
    }
   ],
   "source": [
    "#factorial(manual)\n",
    "import math\n",
    "\n",
    "# Permutation using all items (n!)\n",
    "n = 4\n",
    "perm_all = math.factorial(n)\n",
    "print(f\"Permutations of {n} items:\", perm_all)\n"
   ]
  },
  {
   "cell_type": "code",
   "execution_count": 28,
   "id": "9c0b81c6-103c-4d69-926d-4f4481bc9601",
   "metadata": {},
   "outputs": [
    {
     "name": "stdout",
     "output_type": "stream",
     "text": [
      "P(5, 3) = 60\n"
     ]
    }
   ],
   "source": [
    "#Partial permutation (P(n, r))\n",
    "def permutation(n, r):\n",
    "    return math.factorial(n) // math.factorial(n - r)\n",
    "\n",
    "# Example: P(5, 3)\n",
    "print(\"P(5, 3) =\", permutation(5, 3))\n"
   ]
  },
  {
   "cell_type": "code",
   "execution_count": 30,
   "id": "ba6f539b-eec0-4e80-a1df-1bd3c27f4d03",
   "metadata": {},
   "outputs": [
    {
     "name": "stdout",
     "output_type": "stream",
     "text": [
      "Permutations of 2 from A, B, C:\n",
      "('A', 'B')\n",
      "('A', 'C')\n",
      "('B', 'A')\n",
      "('B', 'C')\n",
      "('C', 'A')\n",
      "('C', 'B')\n"
     ]
    }
   ],
   "source": [
    "#List all permutations (with itertools)\n",
    "import itertools\n",
    "\n",
    "items = ['A', 'B', 'C']\n",
    "perm_list = list(itertools.permutations(items, 2))  # 2-item permutations\n",
    "\n",
    "print(\"Permutations of 2 from A, B, C:\")\n",
    "for p in perm_list:\n",
    "    print(p)\n"
   ]
  },
  {
   "cell_type": "code",
   "execution_count": 34,
   "id": "d39a37b9-5ac1-41c6-a436-d08f8bd61ec3",
   "metadata": {},
   "outputs": [
    {
     "name": "stdout",
     "output_type": "stream",
     "text": [
      "Permutations with repetition: 1000\n"
     ]
    }
   ],
   "source": [
    "#With Repetition\n",
    "#If repetition is allowed, the number of permutations is:\n",
    "\n",
    "#n^r\n",
    "\n",
    "\n",
    "#> Example: 3-digit lock using digits 0–9 →\n",
    "#> 10 choices per digit → $10^3 = 1000$ combinations\n",
    "\n",
    "# Repetition allowed\n",
    "n = 10  # digits 0–9\n",
    "r = 3   # 3-digit code\n",
    "print(\"Permutations with repetition:\", n ** r)\n"
   ]
  },
  {
   "cell_type": "markdown",
   "id": "7bd4397b-df6d-4a12-ad2f-d356b879e935",
   "metadata": {},
   "source": [
    "\n",
    "\n",
    "# 🔢 Combinations \n",
    "\n",
    "####  What is a Combination?\n",
    "\n",
    "\n",
    "\n",
    "A **combination** is a way of **selecting items** from a group **where the order does NOT matter**.\n",
    "\n",
    "> 💡 If **order doesn’t matter**, it’s a **combination**.\n",
    "> Example: Selecting 2 fruits from {Apple, Banana, Cherry}. Apple-Banana = Banana-Apple.\n",
    "\n",
    "---\n",
    "\n",
    "####  Combination Formula\n",
    "\n",
    "$$\n",
    "C(n, r) = \\binom{n}{r} = \\frac{n!}{r!(n - r)!}\n",
    "$$\n",
    "\n",
    "Where:\n",
    "\n",
    "* $n$: total number of items\n",
    "* $r$: number of items selected\n",
    "* $n!$: factorial of $n$\n",
    "\n",
    "---\n",
    "\n",
    "####  Explanation:\n",
    "\n",
    "* The numerator $n!$ gives **all possible arrangements**.\n",
    "* The denominator removes:\n",
    "\n",
    "  * **Repeated internal arrangements** of the selected items $r!$\n",
    "  * The unselected items $(n - r)!$ in full permutation logic\n",
    "\n",
    "---\n",
    "\n",
    "#### Real-Life Examples\n",
    "\n",
    "| Scenario                             | Is it a Combination? | Why?                                       |\n",
    "| ------------------------------------ | -------------------- | ------------------------------------------ |\n",
    "| Selecting a lottery number           | ✅ Yes                | Order doesn’t matter (e.g., 5, 12, 25)     |\n",
    "| Choosing 3 people from a group of 10 | ✅ Yes                | Group order irrelevant                     |\n",
    "| Selecting toppings for a pizza       | ✅ Yes                | Tomato-Mushroom is same as Mushroom-Tomato |\n",
    "| Assigning 1st, 2nd, 3rd place        | ❌ No                 | That’s a permutation — order matters       |\n",
    "\n",
    "\n",
    "\n",
    "\n",
    "\n",
    "#### Special Case: **With Repetition Allowed**\n",
    "\n",
    "When you're allowed to **choose the same item more than once**, the formula changes:\n",
    "\n",
    "$$\n",
    "C(n + r - 1, r) = \\frac{(n + r - 1)!}{r! \\cdot (n - 1)!}\n",
    "$$\n",
    "\n",
    "> Example: Choosing 3 scoops of ice cream from 5 flavors (can repeat flavors)\n",
    "\n",
    "Python:\n",
    "\n",
    "```python\n",
    "list(itertools.combinations_with_replacement(['A', 'B', 'C'], 2))\n",
    "```\n",
    "\n",
    "---\n",
    "\n",
    "####  Summary Table: Permutation vs Combination\n",
    "\n",
    "| Feature        | Permutation                       | Combination                       |\n",
    "| -------------- | --------------------------------- | --------------------------------- |\n",
    "| Order matters? | ✅ Yes                             | ❌ No                              |\n",
    "| Formula        | $\\frac{n!}{(n - r)!}$             | $\\frac{n!}{r!(n - r)!}$           |\n",
    "| Example        | Ranking (1st, 2nd) from 3 people  | Selecting 2 from 3 people         |\n",
    "| Use case       | Passwords, race, seat arrangement | Lottery, group selection, subsets |\n",
    "\n",
    "---\n",
    "\n",
    "####  Applications in Data Science / AI\n",
    "\n",
    "| Field             | Application Example                           |\n",
    "| ----------------- | --------------------------------------------- |\n",
    "| Feature selection | Choose k best features from n                 |\n",
    "| Sampling          | Randomly select samples from a dataset        |\n",
    "| A/B Testing       | Group combinations for hypothesis testing     |\n",
    "| Probability trees | Counting paths or outcomes                    |\n",
    "| Statistics        | Binomial distribution depends on combinations |\n",
    "\n",
    "---\n",
    "\n",
    "#### Common Errors\n",
    "\n",
    "| Mistake                                       | Why it’s wrong                                 |\n",
    "| --------------------------------------------- | ---------------------------------------------- |\n",
    "| Using permutations where order doesn’t matter | Overestimates the total number of groups       |\n",
    "| Forgetting factorials in formula              | Will give wrong value — must divide by $r!$    |\n",
    "| Assuming repetitions by default               | Combinations without replacement unless stated |\n",
    "\n",
    "---\n",
    "\n",
    "#### Visual Illustration\n",
    "\n",
    "Given: Items = {A, B, C}\n",
    "\n",
    "* **Permutations of 2:**\n",
    "  AB, BA, AC, CA, BC, CB → 6 total\n",
    "* **Combinations of 2:**\n",
    "  AB, AC, BC → 3 total\n",
    "  → because AB = BA (not unique when order doesn’t matter)\n"
   ]
  },
  {
   "cell_type": "code",
   "execution_count": 36,
   "id": "82ce85b7-6aa5-4240-90ad-6d08a4dc2e26",
   "metadata": {},
   "outputs": [
    {
     "name": "stdout",
     "output_type": "stream",
     "text": [
      "C(5, 2) = 10\n"
     ]
    }
   ],
   "source": [
    "import math\n",
    "\n",
    "# C(n, r)\n",
    "def combination(n, r):\n",
    "    return math.comb(n, r)  # Available in Python 3.8+\n",
    "\n",
    "print(\"C(5, 2) =\", combination(5, 2))  # 10 ways"
   ]
  },
  {
   "cell_type": "code",
   "execution_count": 38,
   "id": "c973c569-1193-4a59-9613-124627713daa",
   "metadata": {},
   "outputs": [
    {
     "name": "stdout",
     "output_type": "stream",
     "text": [
      "Combinations of 2 from A, B, C, D:\n",
      "('A', 'B')\n",
      "('A', 'C')\n",
      "('A', 'D')\n",
      "('B', 'C')\n",
      "('B', 'D')\n",
      "('C', 'D')\n"
     ]
    }
   ],
   "source": [
    "###  List All Combinations (with itertools)\n",
    "\n",
    "\n",
    "import itertools\n",
    "\n",
    "items = ['A', 'B', 'C', 'D']\n",
    "comb_list = list(itertools.combinations(items, 2))\n",
    "\n",
    "print(\"Combinations of 2 from A, B, C, D:\")\n",
    "for c in comb_list:\n",
    "    print(c)\n",
    "\n"
   ]
  },
  {
   "cell_type": "markdown",
   "id": "fc4d8aca-ba98-4b85-b75e-5482ef1b9d0e",
   "metadata": {},
   "source": [
    "##  Special Case: **With Repetition Allowed**\n",
    "\n",
    "When you're allowed to **choose the same item more than once**, the formula changes:\n",
    "\n",
    "$$\n",
    "C(n + r - 1, r) = \\frac{(n + r - 1)!}{r! \\cdot (n - 1)!}\n",
    "$$\n",
    "\n",
    "> Example: Choosing 3 scoops of ice cream from 5 flavors (can repeat flavors)\n",
    "\n"
   ]
  },
  {
   "cell_type": "code",
   "execution_count": 41,
   "id": "6964d5f9-8514-411e-befb-ccb7fba039c8",
   "metadata": {},
   "outputs": [
    {
     "data": {
      "text/plain": [
       "[('A', 'A'), ('A', 'B'), ('A', 'C'), ('B', 'B'), ('B', 'C'), ('C', 'C')]"
      ]
     },
     "execution_count": 41,
     "metadata": {},
     "output_type": "execute_result"
    }
   ],
   "source": [
    "list(itertools.combinations_with_replacement(['A', 'B', 'C'], 2))"
   ]
  },
  {
   "cell_type": "markdown",
   "id": "fdf6681a-9da0-4cab-8bba-d93976c66f1e",
   "metadata": {},
   "source": [
    "\n",
    "#  Percentiles \n",
    "\n",
    "---\n",
    "\n",
    "####  What is a Percentile?\n",
    "\n",
    "A **percentile** is a measure used in statistics to indicate the **value below which a given percentage of observations in a group of observations falls**.\n",
    "\n",
    "* The **kth percentile** is the value below which **k%** of the data lies.\n",
    "* For example, the **25th percentile** (also called the 1st quartile) is the value below which **25% of the data points** fall.\n",
    "\n",
    "####  Why useful?\n",
    "\n",
    "* Percentiles help you understand the **distribution** of data.\n",
    "* They are used to interpret **scores** or **rankings**, e.g., test scores, height, income.\n",
    "* Percentiles summarize data by dividing it into 100 equal parts.\n",
    "\n",
    "---\n",
    "\n",
    "####  Percentiles in Detail\n",
    "\n",
    "* The **0th percentile** is the minimum value.\n",
    "* The **50th percentile** is the median.\n",
    "* The **100th percentile** is the maximum value.\n",
    "\n",
    "---\n",
    "\n",
    "#### How to Calculate Percentiles?\n",
    "\n",
    "Given an ordered dataset $X = \\{x_1, x_2, ..., x_n\\}$ sorted from smallest to largest:\n",
    "\n",
    "#### Step 1: Calculate the rank $R$ using the formula:\n",
    "\n",
    "$$\n",
    "R = \\frac{P}{100} \\times (n + 1)\n",
    "$$\n",
    "\n",
    "Where:\n",
    "\n",
    "* $P$ is the desired percentile (e.g., 25 for 25th percentile)\n",
    "* $n$ is the number of data points\n",
    "\n",
    "#### Step 2: Interpret $R$:\n",
    "\n",
    "* If $R$ is an integer, the percentile value is the $R^{th}$ data point.\n",
    "* If $R$ is not an integer, interpolate between the surrounding data points.\n",
    "\n",
    "---\n",
    "\n",
    "####  Example Calculation:\n",
    "\n",
    "Dataset: $[15, 20, 35, 40, 50]$\n",
    "Find the 40th percentile.\n",
    "\n",
    "* $n = 5$\n",
    "* $R = \\frac{40}{100} \\times (5 + 1) = 0.4 \\times 6 = 2.4$\n",
    "\n",
    "Since $R = 2.4$ is not an integer, interpolate between $x_2 = 20$ and $x_3 = 35$:\n",
    "\n",
    "$$\n",
    "\\text{Percentile value} = x_2 + 0.4 \\times (x_3 - x_2) = 20 + 0.4 \\times (35 - 20) = 20 + 6 = 26\n",
    "$$\n",
    "\n",
    "---\n",
    "\n",
    "#### Applications of Percentiles\n",
    "\n",
    "* **Education:** Interpreting test scores (e.g., scoring in the 90th percentile means you scored better than 90% of test takers).\n",
    "* **Health:** Growth charts for children (height/weight percentiles).\n",
    "* **Finance:** Understanding income distribution.\n",
    "* **Data Science:** Feature scaling, anomaly detection, and data summarization.\n",
    "\n",
    "\n",
    "\n",
    "## Summary Table\n",
    "\n",
    "| Percentile (P) | Meaning                            | Example Value          |\n",
    "| -------------- | ---------------------------------- | ---------------------- |\n",
    "| 0th            | Minimum data value                 | Smallest value in data |\n",
    "| 25th (Q1)      | 25% of data below this value       | Lower quartile         |\n",
    "| 50th (Median)  | Middle value, divides data in half | Median                 |\n",
    "| 75th (Q3)      | 75% of data below this value       | Upper quartile         |\n",
    "| 100th          | Maximum data value                 | Largest value in data  |\n",
    "\n"
   ]
  },
  {
   "cell_type": "code",
   "execution_count": 46,
   "id": "ba6c423d-3781-4330-a58b-7fde62378db3",
   "metadata": {},
   "outputs": [
    {
     "name": "stdout",
     "output_type": "stream",
     "text": [
      "40th Percentile: 29.0\n"
     ]
    }
   ],
   "source": [
    "# Calculate Percentile Using numpy\n",
    "import numpy as np\n",
    "\n",
    "data = [15, 20, 35, 40, 50]\n",
    "percentile_40 = np.percentile(data, 40)\n",
    "print(\"40th Percentile:\", percentile_40)\n"
   ]
  },
  {
   "cell_type": "code",
   "execution_count": 48,
   "id": "44c03cca-0983-48eb-ba16-6cc4b40915aa",
   "metadata": {},
   "outputs": [
    {
     "name": "stdout",
     "output_type": "stream",
     "text": [
      "40th Percentile (manual): 26.000000000000007\n"
     ]
    }
   ],
   "source": [
    "#Manual Percentile Calculation (with interpolation)\n",
    "def percentile(data, P):\n",
    "    data_sorted = sorted(data)\n",
    "    n = len(data_sorted)\n",
    "    R = (P / 100) * (n + 1)\n",
    "\n",
    "    if R.is_integer():\n",
    "        return data_sorted[int(R) - 1]  # Indexing from 0\n",
    "    else:\n",
    "        k = int(R)\n",
    "        d = R - k\n",
    "        lower = data_sorted[k - 1]\n",
    "        upper = data_sorted[k]\n",
    "        return lower + d * (upper - lower)\n",
    "\n",
    "data = [15, 20, 35, 40, 50]\n",
    "print(\"40th Percentile (manual):\", percentile(data, 40))\n"
   ]
  },
  {
   "cell_type": "markdown",
   "id": "5c6bd7c3-9894-40d1-ba92-32deea5a8826",
   "metadata": {},
   "source": [
    "\n",
    "\n",
    "#### 1️⃣ **Probability Formula**\n",
    "\n",
    "$$\n",
    "P(E) = \\frac{\\text{Number of favorable outcomes}}{\\text{Total number of outcomes}}\n",
    "$$\n",
    "\n",
    "* **Meaning:** The probability of an event $E$ happening is the ratio of favorable outcomes to all possible outcomes.\n",
    "* **Range:** $0 \\leq P(E) \\leq 1$\n",
    "* $P(E) = 0$ means event never occurs.\n",
    "* $P(E) = 1$ means event always occurs.\n",
    "\n",
    "### Example:\n",
    "\n",
    "Rolling a die, what's the probability of getting a 4?\n",
    "\n",
    "$$\n",
    "P(\\text{rolling 4}) = \\frac{1}{6} \\approx 0.1667\n",
    "$$\n",
    "\n",
    "\n",
    "\n",
    "\n",
    "\n",
    "\n",
    "\n",
    "\n",
    "\n",
    "\n",
    "\n",
    "\n"
   ]
  },
  {
   "cell_type": "code",
   "execution_count": 50,
   "id": "5eca8bf5-f16c-4e99-bc5c-f7f36d535066",
   "metadata": {},
   "outputs": [
    {
     "name": "stdout",
     "output_type": "stream",
     "text": [
      "Probability of rolling a 4: 0.16666666666666666\n"
     ]
    }
   ],
   "source": [
    "\n",
    "total_outcomes = 6\n",
    "favorable_outcomes = 1  # Getting a 4\n",
    "P_E = favorable_outcomes / total_outcomes\n",
    "print(\"Probability of rolling a 4:\", P_E)"
   ]
  },
  {
   "cell_type": "markdown",
   "id": "373bc935-5581-4678-be52-83d62bddabbb",
   "metadata": {},
   "source": [
    "#### 2️⃣ **Complement Rule**\n",
    "\n",
    "$$\n",
    "P(\\text{Not } E) = 1 - P(E)\n",
    "$$\n",
    "\n",
    "* The probability that event $E$ **does not occur** is one minus the probability that it does occur.\n",
    "* Useful when calculating the probability of an event's **opposite**.\n",
    "\n",
    "### Example:\n",
    "\n",
    "Probability of **NOT** rolling a 4:\n",
    "\n",
    "$$\n",
    "P(\\text{not 4}) = 1 - \\frac{1}{6} = \\frac{5}{6} \\approx 0.8333\n",
    "$$\n",
    "\n"
   ]
  },
  {
   "cell_type": "code",
   "execution_count": 53,
   "id": "c0b25058-c0dc-483f-bbdd-98885f3a8fb1",
   "metadata": {},
   "outputs": [
    {
     "name": "stdout",
     "output_type": "stream",
     "text": [
      "Probability of NOT rolling a 4: 0.8333333333333334\n"
     ]
    }
   ],
   "source": [
    "P_E = 1 / 6\n",
    "P_not_E = 1 - P_E\n",
    "print(\"Probability of NOT rolling a 4:\", P_not_E)"
   ]
  },
  {
   "cell_type": "markdown",
   "id": "7714144d-f71b-487a-b3c1-eff57b0afc32",
   "metadata": {},
   "source": [
    "\n",
    "#### 3️⃣ **Addition Rule (For OR events)**\n",
    "\n",
    "#### a) **For Mutually Exclusive Events**\n",
    "\n",
    "Events $A$ and $B$ are **mutually exclusive** if they **cannot happen simultaneously** (no overlap).\n",
    "\n",
    "$$\n",
    "P(A \\cup B) = P(A) + P(B)\n",
    "$$\n",
    "\n",
    "### Example:\n",
    "\n",
    "Rolling a die, what is the probability of getting a 2 **OR** 5?\n",
    "\n",
    "$$\n",
    "P(2 \\cup 5) = P(2) + P(5) = \\frac{1}{6} + \\frac{1}{6} = \\frac{2}{6} = \\frac{1}{3}\n",
    "$$\n",
    "\n"
   ]
  },
  {
   "cell_type": "code",
   "execution_count": 56,
   "id": "26abc111-b08c-41d9-868e-542a6486e1f4",
   "metadata": {},
   "outputs": [
    {
     "name": "stdout",
     "output_type": "stream",
     "text": [
      "Probability of rolling 2 or 5: 0.3333333333333333\n"
     ]
    }
   ],
   "source": [
    "P_A = 1/6  # rolling 2\n",
    "P_B = 1/6  # rolling 5\n",
    "P_A_or_B = P_A + P_B\n",
    "print(\"Probability of rolling 2 or 5:\", P_A_or_B)"
   ]
  },
  {
   "cell_type": "markdown",
   "id": "6b5ba181-0a61-495f-9e29-ec4f37749103",
   "metadata": {},
   "source": [
    "#### b) **For General (Non-Mutually Exclusive) Events**\n",
    "\n",
    "If events $A$ and $B$ **can happen simultaneously**:\n",
    "\n",
    "$$\n",
    "P(A \\cup B) = P(A) + P(B) - P(A \\cap B)\n",
    "$$\n",
    "\n",
    "Subtract the intersection because it’s counted twice in $P(A) + P(B)$.\n",
    "\n",
    "#### Example:\n",
    "\n",
    "Say:\n",
    "\n",
    "* $P(A) = 0.5$, $P(B) = 0.3$,\n",
    "* $P(A \\cap B) = 0.1$,\n",
    "  Then:\n",
    "\n",
    "$$\n",
    "P(A \\cup B) = 0.5 + 0.3 - 0.1 = 0.7\n",
    "$$\n",
    "\n",
    "---"
   ]
  },
  {
   "cell_type": "markdown",
   "id": "6aee2398-5854-4432-8032-a24a1ef1d6fe",
   "metadata": {},
   "source": [
    "\n",
    "#### 4️⃣ **Multiplication Rule (For AND events)**\n",
    "\n",
    "---\n",
    "\n",
    "#### a) **For Independent Events**\n",
    "\n",
    "Two events $A$ and $B$ are **independent** if occurrence of one **does not affect** the probability of the other.\n",
    "\n",
    "$$\n",
    "P(A \\cap B) = P(A) \\times P(B)\n",
    "$$\n",
    "\n",
    "#### Example:\n",
    "\n",
    "Toss a coin and roll a die:\n",
    "\n",
    "* $P(H) = \\frac{1}{2}$ for Heads\n",
    "* $P(6) = \\frac{1}{6}$ for rolling 6\n",
    "\n",
    "Probability of getting Heads **AND** rolling 6:\n",
    "\n",
    "$$\n",
    "P(H \\cap 6) = \\frac{1}{2} \\times \\frac{1}{6} = \\frac{1}{12}\n",
    "$$"
   ]
  },
  {
   "cell_type": "code",
   "execution_count": 60,
   "id": "13e9c4c6-6dd1-4f66-b44d-664379fd1692",
   "metadata": {},
   "outputs": [
    {
     "name": "stdout",
     "output_type": "stream",
     "text": [
      "Probability of Heads and rolling 6: 0.08333333333333333\n"
     ]
    }
   ],
   "source": [
    "P_H = 1/2  # Heads\n",
    "P_6 = 1/6  # Rolling 6\n",
    "P_H_and_6 = P_H * P_6\n",
    "print(\"Probability of Heads and rolling 6:\", P_H_and_6)"
   ]
  },
  {
   "cell_type": "markdown",
   "id": "48d5957c-19b6-4cb0-9cae-f94670a597b3",
   "metadata": {},
   "source": [
    "#### b) **For Dependent Events**\n",
    "\n",
    "Events $A$ and $B$ are **dependent** if the occurrence of $A$ affects the probability of $B$.\n",
    "\n",
    "$$\n",
    "P(A \\cap B) = P(A) \\times P(B|A)\n",
    "$$\n",
    "\n",
    "Where $P(B|A)$ is the **conditional probability** of $B$ given $A$ has happened.\n",
    "\n",
    "#### Example:\n",
    "\n",
    "Drawing 2 cards **without replacement** from a deck:\n",
    "\n",
    "* $P(\\text{first card is Ace}) = \\frac{4}{52}$\n",
    "* After first Ace drawn, $P(\\text{second card is Ace} | \\text{first Ace}) = \\frac{3}{51}$\n",
    "\n",
    "So,\n",
    "\n",
    "$$\n",
    "P(\\text{both cards are Aces}) = \\frac{4}{52} \\times \\frac{3}{51} = \\frac{12}{2652} = \\frac{1}{221}\n",
    "$$\n"
   ]
  },
  {
   "cell_type": "code",
   "execution_count": 63,
   "id": "a0f562f0-218e-409a-8d09-f45052497d69",
   "metadata": {},
   "outputs": [
    {
     "name": "stdout",
     "output_type": "stream",
     "text": [
      "Probability of drawing two Aces without replacement: 0.004524886877828055\n"
     ]
    }
   ],
   "source": [
    "P_first_ace = 4/52\n",
    "P_second_ace_given_first = 3/51\n",
    "P_both_aces = P_first_ace * P_second_ace_given_first\n",
    "print(\"Probability of drawing two Aces without replacement:\", P_both_aces)"
   ]
  },
  {
   "cell_type": "markdown",
   "id": "fa9afa1a-194d-4b09-a344-ca4aee07a6f8",
   "metadata": {},
   "source": [
    "#### Summary Table of Basic Rules\n",
    "\n",
    "| Rule                               | Formula                                        | When to Use                         |                          |\n",
    "| ---------------------------------- | ---------------------------------------------- | ----------------------------------- | ------------------------ |\n",
    "| Probability Formula                | $P(E) = \\frac{\\text{favorable}}{\\text{total}}$ | Basic probability of event          |                          |\n",
    "| Complement Rule                    | $P(\\text{Not } E) = 1 - P(E)$                  | When calculating event’s complement |                          |\n",
    "| Addition Rule (Mutually Exclusive) | $P(A \\cup B) = P(A) + P(B)$                    | Events cannot occur together        |                          |\n",
    "| Addition Rule (General)            | $P(A \\cup B) = P(A) + P(B) - P(A \\cap B)$      | Events can overlap                  |                          |\n",
    "| Multiplication Rule (Independent)  | $P(A \\cap B) = P(A) \\times P(B)$               | Events don’t affect each other      |                          |\n",
    "| Multiplication Rule (Dependent)    | ( P(A \\cap B) = P(A) \\times P(B                | A) )                                | Events affect each other |\n",
    "\n"
   ]
  },
  {
   "cell_type": "code",
   "execution_count": null,
   "id": "f1ec505b-6141-4792-b583-9ec75949933f",
   "metadata": {},
   "outputs": [],
   "source": []
  }
 ],
 "metadata": {
  "kernelspec": {
   "display_name": "Python [conda env:base] *",
   "language": "python",
   "name": "conda-base-py"
  },
  "language_info": {
   "codemirror_mode": {
    "name": "ipython",
    "version": 3
   },
   "file_extension": ".py",
   "mimetype": "text/x-python",
   "name": "python",
   "nbconvert_exporter": "python",
   "pygments_lexer": "ipython3",
   "version": "3.12.7"
  }
 },
 "nbformat": 4,
 "nbformat_minor": 5
}
