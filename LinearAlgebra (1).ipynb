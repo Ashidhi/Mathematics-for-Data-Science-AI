{
 "cells": [
  {
   "cell_type": "markdown",
   "id": "8de2e545-df02-4228-be1e-b1e63c7bdc3f",
   "metadata": {},
   "source": [
    "# Linear Algebra"
   ]
  },
  {
   "cell_type": "markdown",
   "id": "d7e3f3fa-a3bc-49e0-97bc-d9f1ea1c4931",
   "metadata": {},
   "source": [
    "## Vector  arithmetics"
   ]
  },
  {
   "cell_type": "code",
   "execution_count": 11,
   "id": "0344c362-1ba8-4dbe-8841-eaac17b51f7c",
   "metadata": {},
   "outputs": [],
   "source": [
    "import numpy as np\n",
    "a=np.array([20,40,60])\n",
    "b=np.array([10,70,60])\n",
    "c=np.array([80,90,100])\n"
   ]
  },
  {
   "cell_type": "code",
   "execution_count": 13,
   "id": "d0e32846-2a3d-4357-96cc-e8e59f5ed03f",
   "metadata": {},
   "outputs": [
    {
     "data": {
      "text/plain": [
       "array([ 30, 110, 120])"
      ]
     },
     "execution_count": 13,
     "metadata": {},
     "output_type": "execute_result"
    }
   ],
   "source": [
    "#vector addition\n",
    "a+b"
   ]
  },
  {
   "cell_type": "code",
   "execution_count": 15,
   "id": "4357521e-fb96-4608-8975-9235a5de1a93",
   "metadata": {},
   "outputs": [
    {
     "data": {
      "text/plain": [
       "array([100, 130, 160])"
      ]
     },
     "execution_count": 15,
     "metadata": {},
     "output_type": "execute_result"
    }
   ],
   "source": [
    "a+c\n"
   ]
  },
  {
   "cell_type": "code",
   "execution_count": 17,
   "id": "0fb1a6eb-8e6d-4e72-b5e2-c048a9d33855",
   "metadata": {},
   "outputs": [
    {
     "data": {
      "text/plain": [
       "array([ 10, -30,   0])"
      ]
     },
     "execution_count": 17,
     "metadata": {},
     "output_type": "execute_result"
    }
   ],
   "source": [
    "#vector subtraction\n",
    "a-b"
   ]
  },
  {
   "cell_type": "code",
   "execution_count": 19,
   "id": "756f91b2-abad-48a1-912d-5166617f1437",
   "metadata": {},
   "outputs": [
    {
     "data": {
      "text/plain": [
       "array([ 200, 2800, 3600])"
      ]
     },
     "execution_count": 19,
     "metadata": {},
     "output_type": "execute_result"
    }
   ],
   "source": [
    "#vector multiplication\n",
    "a*b"
   ]
  },
  {
   "cell_type": "code",
   "execution_count": 21,
   "id": "316b48a6-f237-47e4-a929-fd2d43356aa8",
   "metadata": {},
   "outputs": [
    {
     "data": {
      "text/plain": [
       "array([0.125     , 0.77777778, 0.6       ])"
      ]
     },
     "execution_count": 21,
     "metadata": {},
     "output_type": "execute_result"
    }
   ],
   "source": [
    "#vector division\n",
    "b/c"
   ]
  },
  {
   "cell_type": "code",
   "execution_count": 23,
   "id": "bccba3c3-7496-4f2b-b612-1070c34a5843",
   "metadata": {},
   "outputs": [
    {
     "ename": "ValueError",
     "evalue": "operands could not be broadcast together with shapes (3,) (4,) ",
     "output_type": "error",
     "traceback": [
      "\u001b[1;31m---------------------------------------------------------------------------\u001b[0m",
      "\u001b[1;31mValueError\u001b[0m                                Traceback (most recent call last)",
      "Cell \u001b[1;32mIn[23], line 3\u001b[0m\n\u001b[0;32m      1\u001b[0m a\u001b[38;5;241m=\u001b[39mnp\u001b[38;5;241m.\u001b[39marray([\u001b[38;5;241m20\u001b[39m,\u001b[38;5;241m40\u001b[39m,\u001b[38;5;241m60\u001b[39m])\n\u001b[0;32m      2\u001b[0m c\u001b[38;5;241m=\u001b[39mnp\u001b[38;5;241m.\u001b[39marray([\u001b[38;5;241m80\u001b[39m,\u001b[38;5;241m90\u001b[39m,\u001b[38;5;241m100\u001b[39m,\u001b[38;5;241m40\u001b[39m])\n\u001b[1;32m----> 3\u001b[0m a\u001b[38;5;241m+\u001b[39mc\n",
      "\u001b[1;31mValueError\u001b[0m: operands could not be broadcast together with shapes (3,) (4,) "
     ]
    }
   ],
   "source": [
    "a=np.array([20,40,60])\n",
    "c=np.array([80,90,100,40])\n",
    "a+c #cuz different shapes"
   ]
  },
  {
   "cell_type": "code",
   "execution_count": 25,
   "id": "d90a5dcb-4b6d-420c-bec9-2e650ea515bc",
   "metadata": {},
   "outputs": [],
   "source": [
    "scalar=2"
   ]
  },
  {
   "cell_type": "code",
   "execution_count": 27,
   "id": "3411733a-ef1d-4cb1-ae70-5f17f85e12a3",
   "metadata": {},
   "outputs": [
    {
     "name": "stdout",
     "output_type": "stream",
     "text": [
      "[10, 11, 12, 13, 14, 15]\n"
     ]
    }
   ],
   "source": [
    "\n",
    "list_a=[10,11,12,13,14,15]\n",
    "print(list_a)"
   ]
  },
  {
   "cell_type": "code",
   "execution_count": 29,
   "id": "7556ed8b-a9a5-4d50-b599-4cd0947c847b",
   "metadata": {},
   "outputs": [
    {
     "name": "stdout",
     "output_type": "stream",
     "text": [
      "[10 11 12 13 14 15]\n"
     ]
    }
   ],
   "source": [
    "list_as_array=np.array(list_a)\n",
    "print(list_as_array)"
   ]
  },
  {
   "cell_type": "code",
   "execution_count": 31,
   "id": "22d1c106-e595-43f4-b1c3-9907817d944d",
   "metadata": {},
   "outputs": [
    {
     "data": {
      "text/plain": [
       "[10, 11, 12, 13, 14, 15, 10, 11, 12, 13, 14, 15]"
      ]
     },
     "execution_count": 31,
     "metadata": {},
     "output_type": "execute_result"
    }
   ],
   "source": [
    "scalar*list_a"
   ]
  },
  {
   "cell_type": "code",
   "execution_count": 33,
   "id": "259837a9-98ab-4575-b624-d06eb2ebe7bd",
   "metadata": {},
   "outputs": [
    {
     "data": {
      "text/plain": [
       "array([20, 22, 24, 26, 28, 30])"
      ]
     },
     "execution_count": 33,
     "metadata": {},
     "output_type": "execute_result"
    }
   ],
   "source": [
    "scalar*list_as_array"
   ]
  },
  {
   "cell_type": "code",
   "execution_count": 35,
   "id": "fc677b03-eb5a-4a41-850c-ebc6c5f470ee",
   "metadata": {},
   "outputs": [],
   "source": [
    "a=np.array([20,40,60])\n",
    "b=np.array([10,70,60])\n",
    "c=np.array([80,90,100])"
   ]
  },
  {
   "cell_type": "code",
   "execution_count": 37,
   "id": "1616a072-7d63-4da3-bc10-be384db137af",
   "metadata": {},
   "outputs": [
    {
     "data": {
      "text/plain": [
       "6600"
      ]
     },
     "execution_count": 37,
     "metadata": {},
     "output_type": "execute_result"
    }
   ],
   "source": [
    "np.dot(a,b)\n"
   ]
  },
  {
   "cell_type": "code",
   "execution_count": 39,
   "id": "1aa89689-cb9d-4f91-957d-1556fe41ca58",
   "metadata": {},
   "outputs": [
    {
     "data": {
      "text/plain": [
       "6600"
      ]
     },
     "execution_count": 39,
     "metadata": {},
     "output_type": "execute_result"
    }
   ],
   "source": [
    "np.dot(b,a)"
   ]
  },
  {
   "cell_type": "code",
   "execution_count": 41,
   "id": "91ccfb27-845b-43f8-ad4e-1ca973a00758",
   "metadata": {},
   "outputs": [
    {
     "data": {
      "text/plain": [
       "11200"
      ]
     },
     "execution_count": 41,
     "metadata": {},
     "output_type": "execute_result"
    }
   ],
   "source": [
    "np.dot(c,a)"
   ]
  },
  {
   "cell_type": "code",
   "execution_count": 43,
   "id": "07fa2a71-edc3-4f15-97fc-08faf13eac6c",
   "metadata": {},
   "outputs": [
    {
     "name": "stdout",
     "output_type": "stream",
     "text": [
      "17800\n"
     ]
    }
   ],
   "source": [
    "first_result=np.dot(a,b+c)\n",
    "print(first_result)"
   ]
  },
  {
   "cell_type": "code",
   "execution_count": 45,
   "id": "a9e1cae6-d849-4166-b20d-0b1a614aa0e2",
   "metadata": {},
   "outputs": [
    {
     "name": "stdout",
     "output_type": "stream",
     "text": [
      "17800\n"
     ]
    }
   ],
   "source": [
    "second_result=np.dot(a,b)+ np.dot(a,c)\n",
    "print(second_result)"
   ]
  },
  {
   "cell_type": "code",
   "execution_count": 47,
   "id": "3dcee6ed-779c-44ec-bbcf-69f111d46f87",
   "metadata": {},
   "outputs": [
    {
     "name": "stdout",
     "output_type": "stream",
     "text": [
      "Scalar projection: 3.0\n",
      "Vector projection: [3. 0.]\n"
     ]
    }
   ],
   "source": [
    "import numpy as np\n",
    "\n",
    "a = np.array([3, 4])\n",
    "b = np.array([1, 0])\n",
    "\n",
    "# Scalar projection\n",
    "scalar_proj = np.dot(a, b) / np.linalg.norm(b)\n",
    "\n",
    "# Vector projection\n",
    "vector_proj = (np.dot(a, b) / np.dot(b, b)) * b\n",
    "\n",
    "print(\"Scalar projection:\", scalar_proj)\n",
    "print(\"Vector projection:\", vector_proj)\n"
   ]
  },
  {
   "cell_type": "code",
   "execution_count": 49,
   "id": "92b46cce-554f-4c23-99c7-ea6ff7686659",
   "metadata": {},
   "outputs": [
    {
     "name": "stdout",
     "output_type": "stream",
     "text": [
      "5.0\n"
     ]
    }
   ],
   "source": [
    "magnitude = np.linalg.norm(a)\n",
    "print(magnitude)"
   ]
  },
  {
   "cell_type": "code",
   "execution_count": 51,
   "id": "9874e173-6323-48f6-8553-b9eea908dffe",
   "metadata": {},
   "outputs": [
    {
     "name": "stdout",
     "output_type": "stream",
     "text": [
      "Dot product: 0\n",
      "Vectors a and b are orthogonal\n"
     ]
    }
   ],
   "source": [
    "\n",
    "a = np.array([1, 2])\n",
    "b = np.array([-2, 1])\n",
    "\n",
    "dot = np.dot(a, b)  # (1)(-2) + (2)(1) = -2 + 2 = 0\n",
    "\n",
    "print(\"Dot product:\", dot)\n",
    "\n",
    "if dot == 0:\n",
    "    print(\"Vectors a and b are orthogonal\")\n"
   ]
  },
  {
   "cell_type": "code",
   "execution_count": 53,
   "id": "e6d89c69-20f5-4d15-8bb3-0ca018883e40",
   "metadata": {},
   "outputs": [
    {
     "name": "stdout",
     "output_type": "stream",
     "text": [
      "Matrix composition (A × B):\n",
      "[[19 22]\n",
      " [43 50]]\n"
     ]
    }
   ],
   "source": [
    "#Matrix Multiplication\n",
    "A = np.array([[1, 2],\n",
    "              [3, 4]])\n",
    "\n",
    "B = np.array([[5, 6],\n",
    "              [7, 8]])\n",
    "\n",
    "C = np.dot(A, B)  # or A @ B\n",
    "\n",
    "print(\"Matrix composition (A × B):\")\n",
    "print(C)\n"
   ]
  },
  {
   "cell_type": "code",
   "execution_count": 55,
   "id": "efc6c63d-b10e-4952-8165-47aa99a77063",
   "metadata": {},
   "outputs": [
    {
     "name": "stdout",
     "output_type": "stream",
     "text": [
      "A squared (A composed with A):\n",
      "[[4 0]\n",
      " [0 9]]\n"
     ]
    }
   ],
   "source": [
    "A = np.array([[2, 0],\n",
    "              [0, 3]])\n",
    "\n",
    "A_squared = np.dot(A, A)  # Or A @ A\n",
    "\n",
    "print(\"A squared (A composed with A):\")\n",
    "print(A_squared)\n"
   ]
  },
  {
   "cell_type": "code",
   "execution_count": 57,
   "id": "57473142-1498-4b08-b02d-55a7a95118ce",
   "metadata": {},
   "outputs": [
    {
     "name": "stdout",
     "output_type": "stream",
     "text": [
      "A · B · C =\n",
      "[[ 58]\n",
      " [139]]\n"
     ]
    }
   ],
   "source": [
    "A = np.array([[1, 2, 3],\n",
    "              [4, 5, 6]])\n",
    "\n",
    "B = np.array([[7, 8],\n",
    "              [9, 10],\n",
    "              [11, 12]])\n",
    "\n",
    "C = np.array([[1],\n",
    "              [0]])\n",
    "\n",
    "# Step 1: A @ B\n",
    "AB = A @ B\n",
    "\n",
    "# Step 2: (AB) @ C\n",
    "ABC = AB @ C\n",
    "\n",
    "print(\"A · B · C =\")\n",
    "print(ABC)\n"
   ]
  },
  {
   "cell_type": "code",
   "execution_count": 59,
   "id": "dd5e12cb-ff17-4e24-b0fa-ee1a030871ea",
   "metadata": {},
   "outputs": [
    {
     "name": "stdout",
     "output_type": "stream",
     "text": [
      "Solution [x, y, z]: [2. 3. 1.]\n"
     ]
    }
   ],
   "source": [
    "#Gaussian Elimination, one of the most important techniques to solve systems of linear equations using Linear Algebra.\n",
    "# Coefficient matrix\n",
    "A = np.array([[1, 1, 1],\n",
    "              [2, 3, 7],\n",
    "              [3, 4, 10]])\n",
    "\n",
    "# Constants (right-hand side)\n",
    "b = np.array([6, 20, 28])\n",
    "\n",
    "# Solve using numpy\n",
    "x = np.linalg.solve(A, b)\n",
    "\n",
    "print(\"Solution [x, y, z]:\", x)\n"
   ]
  },
  {
   "cell_type": "code",
   "execution_count": 61,
   "id": "23bca3ee-6850-407d-ae39-3420e7cdecfd",
   "metadata": {},
   "outputs": [
    {
     "name": "stdout",
     "output_type": "stream",
     "text": [
      "[[ 1  1  1]\n",
      " [ 2  3  7]\n",
      " [ 3  4 10]]\n"
     ]
    }
   ],
   "source": [
    "print(A)"
   ]
  },
  {
   "cell_type": "code",
   "execution_count": 63,
   "id": "a20a84fe-d1a4-48e6-a87a-268a0c6478ab",
   "metadata": {},
   "outputs": [
    {
     "name": "stdout",
     "output_type": "stream",
     "text": [
      "Solution: [1. 1.]\n"
     ]
    }
   ],
   "source": [
    "# Matrix with a zero pivot at top\n",
    "A = np.array([[0, 1],\n",
    "              [1, 1]], dtype=float)\n",
    "b = np.array([1, 2], dtype=float)\n",
    "\n",
    "# Step 1: Pivot - Swap row 0 and row 1\n",
    "A[[0, 1]] = A[[1, 0]]\n",
    "b[[0, 1]] = b[[1, 0]]\n",
    "\n",
    "# Now proceed with elimination\n",
    "x = np.linalg.solve(A, b)\n",
    "print(\"Solution:\", x)\n"
   ]
  },
  {
   "cell_type": "code",
   "execution_count": 65,
   "id": "d3f3cdce-cf52-489e-be7d-da9e604bd466",
   "metadata": {},
   "outputs": [
    {
     "name": "stdout",
     "output_type": "stream",
     "text": [
      "Solution x = [0.4 1.2]\n"
     ]
    }
   ],
   "source": [
    "#INVERSION MATRIX\n",
    "A = np.array([[4, 7], [2, 6]])\n",
    "B = np.array([10, 8])  # Vector on the right-hand side\n",
    "\n",
    "# Solve using inverse\n",
    "A_inv = np.linalg.inv(A)\n",
    "x = A_inv @ B\n",
    "\n",
    "print(\"Solution x =\", x)\n"
   ]
  },
  {
   "cell_type": "code",
   "execution_count": 67,
   "id": "c4e692d6-715d-46aa-aa85-2dbbe4c114d5",
   "metadata": {},
   "outputs": [
    {
     "name": "stdout",
     "output_type": "stream",
     "text": [
      "Determinant of A = 10.000000000000002\n",
      "Determinant of B = 0.9999999999999987\n"
     ]
    }
   ],
   "source": [
    "#determinant of matrix\n",
    "# 2x2 matrix\n",
    "A = np.array([[4, 7],\n",
    "              [2, 6]])\n",
    "\n",
    "# 3x3 matrix\n",
    "B = np.array([[1, 2, 3],\n",
    "              [0, 1, 4],\n",
    "              [5, 6, 0]])\n",
    "\n",
    "det_A = np.linalg.det(A)\n",
    "det_B = np.linalg.det(B)\n",
    "\n",
    "print(\"Determinant of A =\", det_A)\n",
    "print(\"Determinant of B =\", det_B)\n"
   ]
  },
  {
   "cell_type": "code",
   "execution_count": 69,
   "id": "437a3cb5-b0a9-4ff5-82db-f69a1a4019df",
   "metadata": {},
   "outputs": [
    {
     "name": "stdout",
     "output_type": "stream",
     "text": [
      "Coordinates in new basis: [ 4.33333333 -0.66666667]\n",
      "Back to standard: [5. 3.]\n"
     ]
    }
   ],
   "source": [
    "#change of basis\n",
    "\n",
    "v = np.array([5, 3])\n",
    "B = np.array([[1, -1],\n",
    "              [1, 2]])\n",
    "\n",
    "# New coordinates of v in the new basis\n",
    "v_new_basis = np.linalg.inv(B) @ v\n",
    "\n",
    "# Back to standard\n",
    "v_back = B @ v_new_basis\n",
    "\n",
    "print(\"Coordinates in new basis:\", v_new_basis)\n",
    "print(\"Back to standard:\", v_back)\n"
   ]
  },
  {
   "cell_type": "code",
   "execution_count": 71,
   "id": "c7403339-853a-4cd9-90fb-76f1306e748b",
   "metadata": {},
   "outputs": [
    {
     "name": "stdout",
     "output_type": "stream",
     "text": [
      "Original matrix A:\n",
      " [[1. 1. 1. 1. 1.]\n",
      " [1. 0. 1. 0. 1.]\n",
      " [0. 1. 1. 0. 1.]\n",
      " [0. 0. 1. 0. 1.]\n",
      " [0. 0. 0. 1. 1.]]\n",
      "\n",
      "Step 1:\n",
      "Orthogonal vector (before normalization): [1. 1. 0. 0. 0.]\n",
      "Normalized q_1: [0.70710678 0.70710678 0.         0.         0.        ]\n",
      "\n",
      "Step 2:\n",
      "Orthogonal vector (before normalization): [ 0.5 -0.5  1.   0.   0. ]\n",
      "Normalized q_2: [ 0.40824829 -0.40824829  0.81649658  0.          0.        ]\n",
      "\n",
      "Step 3:\n",
      "Orthogonal vector (before normalization): [-0.33333333  0.33333333  0.33333333  1.          0.        ]\n",
      "Normalized q_3: [-0.28867513  0.28867513  0.28867513  0.8660254   0.        ]\n",
      "\n",
      "Step 4:\n",
      "Orthogonal vector (before normalization): [ 0.25 -0.25 -0.25  0.25  1.  ]\n",
      "Normalized q_4: [ 0.2236068  -0.2236068  -0.2236068   0.2236068   0.89442719]\n",
      "\n",
      "Step 5:\n",
      "Orthogonal vector (before normalization): [-0.2  0.2  0.2 -0.2  0.2]\n",
      "Normalized q_5: [-0.4472136  0.4472136  0.4472136 -0.4472136  0.4472136]\n",
      "\n",
      "Q matrix:\n",
      " [[ 0.70710678  0.40824829 -0.28867513  0.2236068  -0.4472136 ]\n",
      " [ 0.70710678 -0.40824829  0.28867513 -0.2236068   0.4472136 ]\n",
      " [ 0.          0.81649658  0.28867513 -0.2236068   0.4472136 ]\n",
      " [ 0.          0.          0.8660254   0.2236068  -0.4472136 ]\n",
      " [ 0.          0.          0.          0.89442719  0.4472136 ]]\n",
      "\n",
      "QᵀQ (should be Identity):\n",
      " [[ 1.  0.  0.  0. -0.]\n",
      " [ 0.  1. -0. -0.  0.]\n",
      " [ 0. -0.  1. -0.  0.]\n",
      " [ 0. -0. -0.  1.  0.]\n",
      " [-0.  0.  0.  0.  1.]]\n"
     ]
    }
   ],
   "source": [
    "#Gram-Schmidt Process in Python (5×5 Matrix)\n",
    "import numpy as np\n",
    "\n",
    "# Step 1: Create a 5x5 matrix with linearly independent columns\n",
    "A = np.array([\n",
    "    [1, 1, 1, 1, 1],\n",
    "    [1, 0, 1, 0, 1],\n",
    "    [0, 1, 1, 0, 1],\n",
    "    [0, 0, 1, 0, 1],\n",
    "    [0, 0, 0, 1, 1]\n",
    "], dtype=float)\n",
    "\n",
    "print(\"Original matrix A:\\n\", A)\n",
    "\n",
    "# Step 2: Initialize an empty Q matrix (same shape as A)\n",
    "Q = np.zeros_like(A)\n",
    "\n",
    "# Step 3: Gram-Schmidt process\n",
    "for i in range(A.shape[1]):\n",
    "    # Start with the current column of A\n",
    "    v = A[:, i]\n",
    "    \n",
    "    # Subtract projections onto previous q_j\n",
    "    for j in range(i):\n",
    "        proj = np.dot(Q[:, j], A[:, i]) * Q[:, j]\n",
    "        v = v - proj\n",
    "    \n",
    "    # Normalize the vector\n",
    "    norm = np.linalg.norm(v)\n",
    "    if norm == 0:\n",
    "        raise ValueError(\"Vectors are linearly dependent.\")\n",
    "    Q[:, i] = v / norm\n",
    "\n",
    "    # Print each step\n",
    "    print(f\"\\nStep {i+1}:\")\n",
    "    print(\"Orthogonal vector (before normalization):\", v)\n",
    "    print(\"Normalized q_{}:\".format(i+1), Q[:, i])\n",
    "\n",
    "# Step 4: Verify QᵀQ = I\n",
    "print(\"\\nQ matrix:\\n\", Q)\n",
    "print(\"\\nQᵀQ (should be Identity):\\n\", np.round(Q.T @ Q, 4))\n"
   ]
  },
  {
   "cell_type": "code",
   "execution_count": 73,
   "id": "f557d713-b605-40d3-869f-5c0c3430fa2e",
   "metadata": {},
   "outputs": [
    {
     "name": "stdout",
     "output_type": "stream",
     "text": [
      "q1 = [0.9486833  0.31622777]\n",
      "q2 = [-0.31622777  0.9486833 ]\n"
     ]
    }
   ],
   "source": [
    "\n",
    "# Vectors\n",
    "v1 = np.array([3, 1])\n",
    "v2 = np.array([2, 2])\n",
    "\n",
    "# Step 1: Normalize v1\n",
    "q1 = v1 / np.linalg.norm(v1)\n",
    "\n",
    "# Step 2: Projection of v2 onto q1\n",
    "proj = np.dot(v2, q1) * q1\n",
    "u2 = v2 - proj\n",
    "q2 = u2 / np.linalg.norm(u2)\n",
    "\n",
    "print(\"q1 =\", q1)\n",
    "print(\"q2 =\", q2)\n"
   ]
  },
  {
   "cell_type": "code",
   "execution_count": 75,
   "id": "35e8266c-ecf1-4b56-818d-0513ac03b100",
   "metadata": {},
   "outputs": [
    {
     "name": "stdout",
     "output_type": "stream",
     "text": [
      "Eigenvalues: [3. 1.]\n",
      "Eigenvectors (columns):\n",
      " [[ 0.70710678 -0.70710678]\n",
      " [ 0.70710678  0.70710678]]\n"
     ]
    }
   ],
   "source": [
    "#Eigenvalues and Eigenvectors\n",
    "\n",
    "A = np.array([[2, 1],\n",
    "              [1, 2]])\n",
    "\n",
    "eigenvalues, eigenvectors = np.linalg.eig(A)\n",
    "\n",
    "print(\"Eigenvalues:\", eigenvalues)\n",
    "print(\"Eigenvectors (columns):\\n\", eigenvectors)\n"
   ]
  },
  {
   "cell_type": "code",
   "execution_count": 77,
   "id": "17789e82-3b99-4035-86bf-47e9f8c6dc10",
   "metadata": {},
   "outputs": [
    {
     "name": "stdout",
     "output_type": "stream",
     "text": [
      "PageRank: [0.3878 0.2148 0.3974]\n"
     ]
    }
   ],
   "source": [
    "#page rank\n",
    "# Link matrix\n",
    "L = np.array([\n",
    "    [0,   0,   1],\n",
    "    [0.5, 0,   0],\n",
    "    [0.5, 1,   0]\n",
    "])\n",
    "\n",
    "# Damping factor\n",
    "d = 0.85\n",
    "N = L.shape[0]\n",
    "A = d * L + (1 - d) / N * np.ones((N, N))\n",
    "\n",
    "# Initialize rank vector\n",
    "R = np.ones(N) / N\n",
    "\n",
    "# Power iteration\n",
    "for i in range(100):\n",
    "    R = A @ R\n",
    "\n",
    "print(\"PageRank:\", np.round(R, 4))\n"
   ]
  }
 ],
 "metadata": {
  "kernelspec": {
   "display_name": "Python [conda env:base] *",
   "language": "python",
   "name": "conda-base-py"
  },
  "language_info": {
   "codemirror_mode": {
    "name": "ipython",
    "version": 3
   },
   "file_extension": ".py",
   "mimetype": "text/x-python",
   "name": "python",
   "nbconvert_exporter": "python",
   "pygments_lexer": "ipython3",
   "version": "3.12.7"
  }
 },
 "nbformat": 4,
 "nbformat_minor": 5
}
